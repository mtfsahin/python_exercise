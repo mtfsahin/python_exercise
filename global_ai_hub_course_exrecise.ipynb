{
  "nbformat": 4,
  "nbformat_minor": 0,
  "metadata": {
    "colab": {
      "provenance": []
    },
    "kernelspec": {
      "name": "python3",
      "display_name": "Python 3"
    },
    "language_info": {
      "name": "python"
    }
  },
  "cells": [
    {
      "cell_type": "code",
      "execution_count": null,
      "metadata": {
        "id": "acTvOeOsJezi"
      },
      "outputs": [],
      "source": [
        "store_item = ['Apple', 12.50, 'Mustafa', 11, 'a', 'ali']"
      ]
    },
    {
      "cell_type": "code",
      "source": [
        "print(type(store_item));"
      ],
      "metadata": {
        "colab": {
          "base_uri": "https://localhost:8080/"
        },
        "id": "0R1-hc7sMs01",
        "outputId": "43ade9d4-764d-4063-a67c-a324fcae96e2"
      },
      "execution_count": null,
      "outputs": [
        {
          "output_type": "stream",
          "name": "stdout",
          "text": [
            "<class 'list'>\n"
          ]
        }
      ]
    },
    {
      "cell_type": "code",
      "source": [
        "print(store_item[0:4])"
      ],
      "metadata": {
        "colab": {
          "base_uri": "https://localhost:8080/"
        },
        "id": "tyUn0R-pMxZ5",
        "outputId": "d2d6ce3b-20c0-443d-d23c-6eb03c68c18a"
      },
      "execution_count": null,
      "outputs": [
        {
          "output_type": "stream",
          "name": "stdout",
          "text": [
            "['Apple', 12.5, 'Mustafa', 11]\n"
          ]
        }
      ]
    },
    {
      "cell_type": "code",
      "source": [
        "print(store_item[2:])"
      ],
      "metadata": {
        "colab": {
          "base_uri": "https://localhost:8080/"
        },
        "id": "WruZHCd0NKEW",
        "outputId": "279bd44b-f66a-49a0-ac50-750c9c5d9aad"
      },
      "execution_count": null,
      "outputs": [
        {
          "output_type": "stream",
          "name": "stdout",
          "text": [
            "['Mustafa', 11, 'a', 'ali']\n"
          ]
        }
      ]
    },
    {
      "cell_type": "code",
      "source": [
        "print(store_item[:2])"
      ],
      "metadata": {
        "colab": {
          "base_uri": "https://localhost:8080/"
        },
        "id": "KtEuglXINRwL",
        "outputId": "bdb14a92-5a34-4232-c5af-aa099a0c036a"
      },
      "execution_count": null,
      "outputs": [
        {
          "output_type": "stream",
          "name": "stdout",
          "text": [
            "['Apple', 12.5]\n"
          ]
        }
      ]
    },
    {
      "cell_type": "code",
      "source": [
        "store_item[2] = 'degisen deger';\n",
        "print(store_item)"
      ],
      "metadata": {
        "colab": {
          "base_uri": "https://localhost:8080/"
        },
        "id": "L5nJ8vIqNnwn",
        "outputId": "59e0d360-d2e7-42aa-e761-1ba6815f53e3"
      },
      "execution_count": null,
      "outputs": [
        {
          "output_type": "stream",
          "name": "stdout",
          "text": [
            "['Apple', 12.5, 'Yeni deger', 11, 'a', 'ali']\n"
          ]
        }
      ]
    },
    {
      "cell_type": "code",
      "source": [
        "number = int(input('Number :'));\n",
        "print(number + 5)"
      ],
      "metadata": {
        "colab": {
          "base_uri": "https://localhost:8080/"
        },
        "id": "W_20RUvbNnnP",
        "outputId": "d6f64bd8-7dc2-4939-e37d-0320260d7a04"
      },
      "execution_count": null,
      "outputs": [
        {
          "output_type": "stream",
          "name": "stdout",
          "text": [
            "Number :12\n",
            "17\n"
          ]
        }
      ]
    },
    {
      "cell_type": "code",
      "source": [
        "import math\n",
        "\n",
        "floor_number = (math.floor(4.56))\n",
        "\n",
        "print(type(floor_number))"
      ],
      "metadata": {
        "colab": {
          "base_uri": "https://localhost:8080/"
        },
        "id": "RE8RHJfPP0xN",
        "outputId": "9919358d-ab34-47ae-81bd-fdff7a4e2fd1"
      },
      "execution_count": null,
      "outputs": [
        {
          "output_type": "stream",
          "name": "stdout",
          "text": [
            "<class 'int'>\n"
          ]
        }
      ]
    },
    {
      "cell_type": "code",
      "source": [
        "import datetime\n",
        "\n",
        "print(datetime.datetime.now())"
      ],
      "metadata": {
        "colab": {
          "base_uri": "https://localhost:8080/"
        },
        "id": "mA7u76WRQJtW",
        "outputId": "f8922077-cdb4-4474-e293-aa04f5aef598"
      },
      "execution_count": null,
      "outputs": [
        {
          "output_type": "stream",
          "name": "stdout",
          "text": [
            "2023-02-03 12:29:48.757838\n"
          ]
        }
      ]
    },
    {
      "cell_type": "code",
      "source": [
        "import random\n",
        "\n",
        "print(random.randint(1,4))\n",
        "print(random.randint(1,6))\n",
        "print(random.randint(1,8))"
      ],
      "metadata": {
        "colab": {
          "base_uri": "https://localhost:8080/"
        },
        "id": "WyM8h_LNQTK7",
        "outputId": "4db7d445-889a-425d-fc85-6f00345796d9"
      },
      "execution_count": null,
      "outputs": [
        {
          "output_type": "stream",
          "name": "stdout",
          "text": [
            "1\n",
            "6\n",
            "4\n"
          ]
        }
      ]
    },
    {
      "cell_type": "code",
      "source": [
        "print (5//2)\n",
        "print (5**2)"
      ],
      "metadata": {
        "colab": {
          "base_uri": "https://localhost:8080/"
        },
        "id": "3IadSu20RW7o",
        "outputId": "0f3a4a24-d0a3-44b5-d713-9d4f02a5bc18"
      },
      "execution_count": null,
      "outputs": [
        {
          "output_type": "stream",
          "name": "stdout",
          "text": [
            "2\n",
            "25\n"
          ]
        }
      ]
    },
    {
      "cell_type": "code",
      "source": [
        "#assignment operation\n",
        "\n",
        "x = 5\n",
        "x += 2\n",
        "print(x)"
      ],
      "metadata": {
        "colab": {
          "base_uri": "https://localhost:8080/"
        },
        "id": "QlMMpaBQRsJc",
        "outputId": "f626c362-5f1f-4976-a390-f5e916475185"
      },
      "execution_count": null,
      "outputs": [
        {
          "output_type": "stream",
          "name": "stdout",
          "text": [
            "7\n"
          ]
        }
      ]
    },
    {
      "cell_type": "code",
      "source": [
        "num1 = 10\n",
        "num2 = 5\n",
        "\n",
        "print(num1, '>', num2, '=', num1>num2)"
      ],
      "metadata": {
        "colab": {
          "base_uri": "https://localhost:8080/"
        },
        "id": "s_bedxR6SqaQ",
        "outputId": "0de783e7-8b43-4dbf-b29c-a15149f47ad4"
      },
      "execution_count": null,
      "outputs": [
        {
          "output_type": "stream",
          "name": "stdout",
          "text": [
            "10 > 5 = True\n"
          ]
        }
      ]
    },
    {
      "cell_type": "code",
      "source": [
        "name = \"mustafa\"\n",
        "age = 3\n",
        "\n",
        "print(type(name*age))"
      ],
      "metadata": {
        "colab": {
          "base_uri": "https://localhost:8080/"
        },
        "id": "TMB1zmLnw0bh",
        "outputId": "786f3758-d38f-4421-8c8d-894c722c67d9"
      },
      "execution_count": null,
      "outputs": [
        {
          "output_type": "stream",
          "name": "stdout",
          "text": [
            "<class 'str'>\n"
          ]
        }
      ]
    },
    {
      "cell_type": "code",
      "source": [
        "a = 2\n",
        "b = 1\n",
        "a *= b + 1\n",
        "print(a)"
      ],
      "metadata": {
        "colab": {
          "base_uri": "https://localhost:8080/"
        },
        "id": "PRiutTT2xIn7",
        "outputId": "7c67fea9-e3ef-40b5-ad03-b96a0f1664d5"
      },
      "execution_count": null,
      "outputs": [
        {
          "output_type": "stream",
          "name": "stdout",
          "text": [
            "4\n"
          ]
        }
      ]
    },
    {
      "cell_type": "code",
      "source": [
        "ad = input(\"adın\")\n",
        "yas = input(ad + \"yasın\")\n",
        "print(yas + ad)"
      ],
      "metadata": {
        "colab": {
          "base_uri": "https://localhost:8080/"
        },
        "id": "Jvtz0xZ9x3tD",
        "outputId": "3c5df335-1efd-4575-cfbe-5286e9ce0c66"
      },
      "execution_count": null,
      "outputs": [
        {
          "output_type": "stream",
          "name": "stdout",
          "text": [
            "adınali\n",
            "aliyasın15\n",
            "15ali\n"
          ]
        }
      ]
    },
    {
      "cell_type": "code",
      "source": [
        "celcius = 32\n",
        "if celcius > 30:\n",
        "  print('Hot')\n",
        "elif celcius > 10:\n",
        "  print('Good')\n",
        "else :\n",
        "  print('Cold')"
      ],
      "metadata": {
        "colab": {
          "base_uri": "https://localhost:8080/"
        },
        "id": "fiUm-IaZKiaN",
        "outputId": "477e830a-eca9-4993-e127-7decadeb51f3"
      },
      "execution_count": null,
      "outputs": [
        {
          "output_type": "stream",
          "name": "stdout",
          "text": [
            "Hot\n"
          ]
        }
      ]
    },
    {
      "cell_type": "code",
      "source": [
        "volcano_name = 'Eyjafjulblablabla'\n",
        "\n",
        "for i in volcano_name:\n",
        "  print(i)\n",
        "print('Loop is complated')\n"
      ],
      "metadata": {
        "colab": {
          "base_uri": "https://localhost:8080/"
        },
        "id": "EtVLdirULGJe",
        "outputId": "45e57236-d22c-45f2-8854-74052745c3c0"
      },
      "execution_count": null,
      "outputs": [
        {
          "output_type": "stream",
          "name": "stdout",
          "text": [
            "E\n",
            "y\n",
            "j\n",
            "a\n",
            "f\n",
            "j\n",
            "u\n",
            "l\n",
            "b\n",
            "l\n",
            "a\n",
            "b\n",
            "l\n",
            "a\n",
            "b\n",
            "l\n",
            "a\n",
            "Loop is complated\n"
          ]
        }
      ]
    },
    {
      "cell_type": "code",
      "source": [
        "for i in range(2,101):\n",
        "  if i % 5 == 0:\n",
        "    print(i)\n",
        "print('Finito')"
      ],
      "metadata": {
        "colab": {
          "base_uri": "https://localhost:8080/"
        },
        "id": "3Vx_wMVFM7xa",
        "outputId": "e436edc2-4e68-47c2-808d-af3a4dd85055"
      },
      "execution_count": null,
      "outputs": [
        {
          "output_type": "stream",
          "name": "stdout",
          "text": [
            "5\n",
            "10\n",
            "15\n",
            "20\n",
            "25\n",
            "30\n",
            "35\n",
            "40\n",
            "45\n",
            "50\n",
            "55\n",
            "60\n",
            "65\n",
            "70\n",
            "75\n",
            "80\n",
            "85\n",
            "90\n",
            "95\n",
            "100\n",
            "Finito\n"
          ]
        }
      ]
    },
    {
      "cell_type": "code",
      "source": [
        "import time\n",
        "celcius = 10\n",
        "\n",
        "while celcius < 50:\n",
        "\n",
        "  if celcius > 30:\n",
        "    print('Hot')\n",
        "  elif 30 >= celcius > 20 :\n",
        "    print('Good')\n",
        "  elif -273 < celcius <= 20 :\n",
        "    print('Cold')\n",
        "  else :\n",
        "    print('Someting wrong')\n",
        "  \n",
        "  print('The current celcius:', celcius)\n",
        "  celcius += 5\n",
        "  time.sleep(1)"
      ],
      "metadata": {
        "colab": {
          "base_uri": "https://localhost:8080/"
        },
        "id": "TI8c6ozLNsvK",
        "outputId": "5e54a4b0-d5ce-4296-f5b0-8704383b447d"
      },
      "execution_count": null,
      "outputs": [
        {
          "output_type": "stream",
          "name": "stdout",
          "text": [
            "Cold\n",
            "The current celcius: 10\n",
            "Cold\n",
            "The current celcius: 15\n",
            "Cold\n",
            "The current celcius: 20\n",
            "Good\n",
            "The current celcius: 25\n",
            "Good\n",
            "The current celcius: 30\n",
            "Hot\n",
            "The current celcius: 35\n",
            "Hot\n",
            "The current celcius: 40\n",
            "Hot\n",
            "The current celcius: 45\n"
          ]
        }
      ]
    },
    {
      "cell_type": "code",
      "source": [
        "import time\n",
        "counter = 0\n",
        "\n",
        "while counter >= 0:\n",
        "  counter += 1\n",
        "\n",
        "  print(counter) \n",
        "  time.sleep(1)\n",
        "  break\n",
        "\n"
      ],
      "metadata": {
        "colab": {
          "base_uri": "https://localhost:8080/"
        },
        "id": "wYdvYfHCPJaP",
        "outputId": "36eaa43c-e975-4f94-c8ed-58cd3e977362"
      },
      "execution_count": null,
      "outputs": [
        {
          "output_type": "stream",
          "name": "stdout",
          "text": [
            "1\n"
          ]
        }
      ]
    },
    {
      "cell_type": "code",
      "source": [
        "import random \n",
        "\n",
        "while True :\n",
        "\n",
        "  random_number = random.randrange(1000)\n",
        "  print(random_number)\n",
        "\n",
        "  if random_number == 777:\n",
        "    print('Found..')\n",
        "    break"
      ],
      "metadata": {
        "id": "tQCT24kHP805"
      },
      "execution_count": null,
      "outputs": []
    },
    {
      "cell_type": "code",
      "source": [
        "x = True\n",
        "y = False\n",
        "z = False\n",
        "\n",
        "if not x or y:\n",
        "  print(1)\n",
        "elif not x or not y and z:\n",
        "  print(2)\n",
        "elif not x or y or not y and x:\n",
        "  print(3)\n",
        "else:\n",
        "  print(4)"
      ],
      "metadata": {
        "colab": {
          "base_uri": "https://localhost:8080/"
        },
        "id": "7XZ25FBjQqrO",
        "outputId": "792fba69-813c-47da-e7fa-9c31d220fafc"
      },
      "execution_count": null,
      "outputs": [
        {
          "output_type": "stream",
          "name": "stdout",
          "text": [
            "3\n"
          ]
        }
      ]
    }
  ]
}