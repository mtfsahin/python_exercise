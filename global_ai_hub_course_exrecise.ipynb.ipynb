{
  "nbformat": 4,
  "nbformat_minor": 0,
  "metadata": {
    "colab": {
      "provenance": []
    },
    "kernelspec": {
      "name": "python3",
      "display_name": "Python 3"
    },
    "language_info": {
      "name": "python"
    }
  },
  "cells": [
    {
      "cell_type": "code",
      "execution_count": null,
      "metadata": {
        "id": "acTvOeOsJezi"
      },
      "outputs": [],
      "source": [
        "store_item = ['Apple', 12.50, 'Mustafa', 11, 'a', 'ali']"
      ]
    },
    {
      "cell_type": "code",
      "source": [
        "print(type(store_item));"
      ],
      "metadata": {
        "colab": {
          "base_uri": "https://localhost:8080/"
        },
        "id": "0R1-hc7sMs01",
        "outputId": "43ade9d4-764d-4063-a67c-a324fcae96e2"
      },
      "execution_count": null,
      "outputs": [
        {
          "output_type": "stream",
          "name": "stdout",
          "text": [
            "<class 'list'>\n"
          ]
        }
      ]
    },
    {
      "cell_type": "code",
      "source": [
        "print(store_item[0:4])"
      ],
      "metadata": {
        "colab": {
          "base_uri": "https://localhost:8080/"
        },
        "id": "tyUn0R-pMxZ5",
        "outputId": "d2d6ce3b-20c0-443d-d23c-6eb03c68c18a"
      },
      "execution_count": null,
      "outputs": [
        {
          "output_type": "stream",
          "name": "stdout",
          "text": [
            "['Apple', 12.5, 'Mustafa', 11]\n"
          ]
        }
      ]
    },
    {
      "cell_type": "code",
      "source": [
        "print(store_item[2:])"
      ],
      "metadata": {
        "colab": {
          "base_uri": "https://localhost:8080/"
        },
        "id": "WruZHCd0NKEW",
        "outputId": "279bd44b-f66a-49a0-ac50-750c9c5d9aad"
      },
      "execution_count": null,
      "outputs": [
        {
          "output_type": "stream",
          "name": "stdout",
          "text": [
            "['Mustafa', 11, 'a', 'ali']\n"
          ]
        }
      ]
    },
    {
      "cell_type": "code",
      "source": [
        "print(store_item[:2])"
      ],
      "metadata": {
        "colab": {
          "base_uri": "https://localhost:8080/"
        },
        "id": "KtEuglXINRwL",
        "outputId": "bdb14a92-5a34-4232-c5af-aa099a0c036a"
      },
      "execution_count": null,
      "outputs": [
        {
          "output_type": "stream",
          "name": "stdout",
          "text": [
            "['Apple', 12.5]\n"
          ]
        }
      ]
    },
    {
      "cell_type": "code",
      "source": [
        "store_item[2] = 'degisen deger';\n",
        "print(store_item)"
      ],
      "metadata": {
        "colab": {
          "base_uri": "https://localhost:8080/"
        },
        "id": "L5nJ8vIqNnwn",
        "outputId": "59e0d360-d2e7-42aa-e761-1ba6815f53e3"
      },
      "execution_count": null,
      "outputs": [
        {
          "output_type": "stream",
          "name": "stdout",
          "text": [
            "['Apple', 12.5, 'Yeni deger', 11, 'a', 'ali']\n"
          ]
        }
      ]
    },
    {
      "cell_type": "code",
      "source": [
        "number = int(input('Number :'));\n",
        "print(number + 5)"
      ],
      "metadata": {
        "colab": {
          "base_uri": "https://localhost:8080/"
        },
        "id": "W_20RUvbNnnP",
        "outputId": "d6f64bd8-7dc2-4939-e37d-0320260d7a04"
      },
      "execution_count": null,
      "outputs": [
        {
          "output_type": "stream",
          "name": "stdout",
          "text": [
            "Number :12\n",
            "17\n"
          ]
        }
      ]
    },
    {
      "cell_type": "code",
      "source": [
        "import math\n",
        "\n",
        "floor_number = (math.floor(4.56))\n",
        "\n",
        "print(type(floor_number))"
      ],
      "metadata": {
        "colab": {
          "base_uri": "https://localhost:8080/"
        },
        "id": "RE8RHJfPP0xN",
        "outputId": "9919358d-ab34-47ae-81bd-fdff7a4e2fd1"
      },
      "execution_count": null,
      "outputs": [
        {
          "output_type": "stream",
          "name": "stdout",
          "text": [
            "<class 'int'>\n"
          ]
        }
      ]
    },
    {
      "cell_type": "code",
      "source": [
        "import datetime\n",
        "\n",
        "print(datetime.datetime.now())"
      ],
      "metadata": {
        "colab": {
          "base_uri": "https://localhost:8080/"
        },
        "id": "mA7u76WRQJtW",
        "outputId": "f8922077-cdb4-4474-e293-aa04f5aef598"
      },
      "execution_count": null,
      "outputs": [
        {
          "output_type": "stream",
          "name": "stdout",
          "text": [
            "2023-02-03 12:29:48.757838\n"
          ]
        }
      ]
    },
    {
      "cell_type": "code",
      "source": [
        "import random\n",
        "\n",
        "print(random.randint(1,4))\n",
        "print(random.randint(1,6))\n",
        "print(random.randint(1,8))"
      ],
      "metadata": {
        "colab": {
          "base_uri": "https://localhost:8080/"
        },
        "id": "WyM8h_LNQTK7",
        "outputId": "4db7d445-889a-425d-fc85-6f00345796d9"
      },
      "execution_count": null,
      "outputs": [
        {
          "output_type": "stream",
          "name": "stdout",
          "text": [
            "1\n",
            "6\n",
            "4\n"
          ]
        }
      ]
    },
    {
      "cell_type": "code",
      "source": [
        "print (5//2)\n",
        "print (5**2)"
      ],
      "metadata": {
        "colab": {
          "base_uri": "https://localhost:8080/"
        },
        "id": "3IadSu20RW7o",
        "outputId": "0f3a4a24-d0a3-44b5-d713-9d4f02a5bc18"
      },
      "execution_count": null,
      "outputs": [
        {
          "output_type": "stream",
          "name": "stdout",
          "text": [
            "2\n",
            "25\n"
          ]
        }
      ]
    },
    {
      "cell_type": "code",
      "source": [
        "#assignment operation\n",
        "\n",
        "x = 5\n",
        "x += 2\n",
        "print(x)"
      ],
      "metadata": {
        "colab": {
          "base_uri": "https://localhost:8080/"
        },
        "id": "QlMMpaBQRsJc",
        "outputId": "f626c362-5f1f-4976-a390-f5e916475185"
      },
      "execution_count": null,
      "outputs": [
        {
          "output_type": "stream",
          "name": "stdout",
          "text": [
            "7\n"
          ]
        }
      ]
    },
    {
      "cell_type": "code",
      "source": [
        "num1 = 10\n",
        "num2 = 5\n",
        "\n",
        "print(num1, '>', num2, '=', num1>num2)"
      ],
      "metadata": {
        "colab": {
          "base_uri": "https://localhost:8080/"
        },
        "id": "s_bedxR6SqaQ",
        "outputId": "0de783e7-8b43-4dbf-b29c-a15149f47ad4"
      },
      "execution_count": null,
      "outputs": [
        {
          "output_type": "stream",
          "name": "stdout",
          "text": [
            "10 > 5 = True\n"
          ]
        }
      ]
    },
    {
      "cell_type": "code",
      "source": [
        "name = \"mustafa\"\n",
        "age = 3\n",
        "\n",
        "print(type(name*age))"
      ],
      "metadata": {
        "colab": {
          "base_uri": "https://localhost:8080/"
        },
        "id": "TMB1zmLnw0bh",
        "outputId": "786f3758-d38f-4421-8c8d-894c722c67d9"
      },
      "execution_count": null,
      "outputs": [
        {
          "output_type": "stream",
          "name": "stdout",
          "text": [
            "<class 'str'>\n"
          ]
        }
      ]
    },
    {
      "cell_type": "code",
      "source": [
        "a = 2\n",
        "b = 1\n",
        "a *= b + 1\n",
        "print(a)"
      ],
      "metadata": {
        "colab": {
          "base_uri": "https://localhost:8080/"
        },
        "id": "PRiutTT2xIn7",
        "outputId": "7c67fea9-e3ef-40b5-ad03-b96a0f1664d5"
      },
      "execution_count": null,
      "outputs": [
        {
          "output_type": "stream",
          "name": "stdout",
          "text": [
            "4\n"
          ]
        }
      ]
    },
    {
      "cell_type": "code",
      "source": [
        "ad = input(\"adın\")\n",
        "yas = input(ad + \"yasın\")\n",
        "print(yas + ad)"
      ],
      "metadata": {
        "colab": {
          "base_uri": "https://localhost:8080/"
        },
        "id": "Jvtz0xZ9x3tD",
        "outputId": "3c5df335-1efd-4575-cfbe-5286e9ce0c66"
      },
      "execution_count": null,
      "outputs": [
        {
          "output_type": "stream",
          "name": "stdout",
          "text": [
            "adınali\n",
            "aliyasın15\n",
            "15ali\n"
          ]
        }
      ]
    },
    {
      "cell_type": "code",
      "source": [
        "celcius = 32\n",
        "if celcius > 30:\n",
        "  print('Hot')\n",
        "elif celcius > 10:\n",
        "  print('Good')\n",
        "else :\n",
        "  print('Cold')"
      ],
      "metadata": {
        "colab": {
          "base_uri": "https://localhost:8080/"
        },
        "id": "fiUm-IaZKiaN",
        "outputId": "477e830a-eca9-4993-e127-7decadeb51f3"
      },
      "execution_count": null,
      "outputs": [
        {
          "output_type": "stream",
          "name": "stdout",
          "text": [
            "Hot\n"
          ]
        }
      ]
    },
    {
      "cell_type": "code",
      "source": [
        "volcano_name = 'Eyjafjulblablabla'\n",
        "\n",
        "for i in volcano_name:\n",
        "  print(i)\n",
        "print('Loop is complated')\n"
      ],
      "metadata": {
        "colab": {
          "base_uri": "https://localhost:8080/"
        },
        "id": "EtVLdirULGJe",
        "outputId": "45e57236-d22c-45f2-8854-74052745c3c0"
      },
      "execution_count": null,
      "outputs": [
        {
          "output_type": "stream",
          "name": "stdout",
          "text": [
            "E\n",
            "y\n",
            "j\n",
            "a\n",
            "f\n",
            "j\n",
            "u\n",
            "l\n",
            "b\n",
            "l\n",
            "a\n",
            "b\n",
            "l\n",
            "a\n",
            "b\n",
            "l\n",
            "a\n",
            "Loop is complated\n"
          ]
        }
      ]
    },
    {
      "cell_type": "code",
      "source": [
        "for i in range(2,101):\n",
        "  if i % 5 == 0:\n",
        "    print(i)\n",
        "print('Finito')"
      ],
      "metadata": {
        "colab": {
          "base_uri": "https://localhost:8080/"
        },
        "id": "3Vx_wMVFM7xa",
        "outputId": "e436edc2-4e68-47c2-808d-af3a4dd85055"
      },
      "execution_count": null,
      "outputs": [
        {
          "output_type": "stream",
          "name": "stdout",
          "text": [
            "5\n",
            "10\n",
            "15\n",
            "20\n",
            "25\n",
            "30\n",
            "35\n",
            "40\n",
            "45\n",
            "50\n",
            "55\n",
            "60\n",
            "65\n",
            "70\n",
            "75\n",
            "80\n",
            "85\n",
            "90\n",
            "95\n",
            "100\n",
            "Finito\n"
          ]
        }
      ]
    },
    {
      "cell_type": "code",
      "source": [
        "import time\n",
        "celcius = 10\n",
        "\n",
        "while celcius < 50:\n",
        "\n",
        "  if celcius > 30:\n",
        "    print('Hot')\n",
        "  elif 30 >= celcius > 20 :\n",
        "    print('Good')\n",
        "  elif -273 < celcius <= 20 :\n",
        "    print('Cold')\n",
        "  else :\n",
        "    print('Someting wrong')\n",
        "  \n",
        "  print('The current celcius:', celcius)\n",
        "  celcius += 5\n",
        "  time.sleep(1)"
      ],
      "metadata": {
        "colab": {
          "base_uri": "https://localhost:8080/"
        },
        "id": "TI8c6ozLNsvK",
        "outputId": "5e54a4b0-d5ce-4296-f5b0-8704383b447d"
      },
      "execution_count": null,
      "outputs": [
        {
          "output_type": "stream",
          "name": "stdout",
          "text": [
            "Cold\n",
            "The current celcius: 10\n",
            "Cold\n",
            "The current celcius: 15\n",
            "Cold\n",
            "The current celcius: 20\n",
            "Good\n",
            "The current celcius: 25\n",
            "Good\n",
            "The current celcius: 30\n",
            "Hot\n",
            "The current celcius: 35\n",
            "Hot\n",
            "The current celcius: 40\n",
            "Hot\n",
            "The current celcius: 45\n"
          ]
        }
      ]
    },
    {
      "cell_type": "code",
      "source": [
        "import time\n",
        "counter = 0\n",
        "\n",
        "while counter >= 0:\n",
        "  counter += 1\n",
        "\n",
        "  print(counter) \n",
        "  time.sleep(1)\n",
        "  break\n",
        "\n"
      ],
      "metadata": {
        "colab": {
          "base_uri": "https://localhost:8080/"
        },
        "id": "wYdvYfHCPJaP",
        "outputId": "36eaa43c-e975-4f94-c8ed-58cd3e977362"
      },
      "execution_count": null,
      "outputs": [
        {
          "output_type": "stream",
          "name": "stdout",
          "text": [
            "1\n"
          ]
        }
      ]
    },
    {
      "cell_type": "code",
      "source": [
        "import random \n",
        "\n",
        "while True :\n",
        "\n",
        "  random_number = random.randrange(1000)\n",
        "  print(random_number)\n",
        "\n",
        "  if random_number == 777:\n",
        "    print('Found..')\n",
        "    break"
      ],
      "metadata": {
        "id": "tQCT24kHP805"
      },
      "execution_count": null,
      "outputs": []
    },
    {
      "cell_type": "code",
      "source": [
        "x = True\n",
        "y = False\n",
        "z = False\n",
        "\n",
        "if not x or y:\n",
        "  print(1)\n",
        "elif not x or not y and z:\n",
        "  print(2)\n",
        "elif not x or y or not y and x:\n",
        "  print(3)\n",
        "else:\n",
        "  print(4)"
      ],
      "metadata": {
        "colab": {
          "base_uri": "https://localhost:8080/"
        },
        "id": "7XZ25FBjQqrO",
        "outputId": "792fba69-813c-47da-e7fa-9c31d220fafc"
      },
      "execution_count": null,
      "outputs": [
        {
          "output_type": "stream",
          "name": "stdout",
          "text": [
            "3\n"
          ]
        }
      ]
    },
    {
      "cell_type": "code",
      "source": [
        "def hello(name):\n",
        "  print('Hello', name)"
      ],
      "metadata": {
        "id": "Y-XEeI84TfUe"
      },
      "execution_count": null,
      "outputs": []
    },
    {
      "cell_type": "code",
      "source": [
        "hello('Deniz')"
      ],
      "metadata": {
        "colab": {
          "base_uri": "https://localhost:8080/"
        },
        "id": "3jcjHXoMTzwR",
        "outputId": "c8d09b47-7d5b-46ad-cdaa-b9aad57314f9"
      },
      "execution_count": null,
      "outputs": [
        {
          "output_type": "stream",
          "name": "stdout",
          "text": [
            "Hello Deniz\n"
          ]
        }
      ]
    },
    {
      "cell_type": "code",
      "source": [
        "def sum(number1,number2):\n",
        "  answer = (number1 + number2)\n",
        "  return answer"
      ],
      "metadata": {
        "id": "8RUMYbpRrLIM"
      },
      "execution_count": null,
      "outputs": []
    },
    {
      "cell_type": "code",
      "source": [
        "sum(3,5)"
      ],
      "metadata": {
        "colab": {
          "base_uri": "https://localhost:8080/"
        },
        "id": "c9784h32rLA-",
        "outputId": "2b263a72-b58f-4f91-961e-0974d56e804e"
      },
      "execution_count": null,
      "outputs": [
        {
          "output_type": "stream",
          "name": "stdout",
          "text": [
            "8\n"
          ]
        }
      ]
    },
    {
      "cell_type": "code",
      "source": [
        "result = sum(3,5)\n",
        "print(result)"
      ],
      "metadata": {
        "colab": {
          "base_uri": "https://localhost:8080/"
        },
        "id": "FuXhl70qrdEQ",
        "outputId": "1140138c-af97-4b6e-bf6e-f8e0242f415f"
      },
      "execution_count": null,
      "outputs": [
        {
          "output_type": "stream",
          "name": "stdout",
          "text": [
            "8\n"
          ]
        }
      ]
    },
    {
      "cell_type": "code",
      "source": [
        "def argument_printer(arg_position1,arg_position2):\n",
        "  print('Arg pos 1:',arg_position1)\n",
        "  print('Arg pos 2', arg_position2)"
      ],
      "metadata": {
        "id": "_m0WbM9Du3b-"
      },
      "execution_count": null,
      "outputs": []
    },
    {
      "cell_type": "code",
      "source": [
        "argument_printer('deger1','deger2')"
      ],
      "metadata": {
        "colab": {
          "base_uri": "https://localhost:8080/"
        },
        "id": "jfUFgcyavU8v",
        "outputId": "81355d65-6bb9-4c2d-aa1c-f21bb1ccdeb4"
      },
      "execution_count": null,
      "outputs": [
        {
          "output_type": "stream",
          "name": "stdout",
          "text": [
            "Arg pos 1: deger1\n",
            "Arg pos 2 deger2\n"
          ]
        }
      ]
    },
    {
      "cell_type": "code",
      "source": [
        "def greetings(first_name, last_name, auto_correction):\n",
        "  if auto_correction == True:\n",
        "    capitalized_first_name = first_name.capitalize()\n",
        "    capitalized_last_name = last_name.capitalize()\n",
        "    print('Hello', capitalized_first_name, last_name)\n",
        "  else:\n",
        "    print('Hello', first_name, last_name)"
      ],
      "metadata": {
        "id": "ilSfRLg_vU3T"
      },
      "execution_count": null,
      "outputs": []
    },
    {
      "cell_type": "code",
      "source": [
        "greetings('musTafa','saHin', True)"
      ],
      "metadata": {
        "colab": {
          "base_uri": "https://localhost:8080/"
        },
        "id": "1YK9vRoruGfy",
        "outputId": "2a396aab-319c-4369-f8d0-42df8120ffd4"
      },
      "execution_count": null,
      "outputs": [
        {
          "output_type": "stream",
          "name": "stdout",
          "text": [
            "Hello Mustafa kaYa\n"
          ]
        }
      ]
    },
    {
      "cell_type": "code",
      "source": [
        "greetings('musTafa','şaHin', False)"
      ],
      "metadata": {
        "colab": {
          "base_uri": "https://localhost:8080/"
        },
        "id": "N9AAr4GJucfa",
        "outputId": "50b2283d-51df-4a17-d9ff-79d1826c0c73"
      },
      "execution_count": null,
      "outputs": [
        {
          "output_type": "stream",
          "name": "stdout",
          "text": [
            "Hello musTafa şaHin\n"
          ]
        }
      ]
    },
    {
      "cell_type": "code",
      "source": [
        "def car(brand, model, color):\n",
        "  print('My favoruite car  is the', brand, model, 'in the color', color)"
      ],
      "metadata": {
        "id": "jbxXV5Oi4wO4"
      },
      "execution_count": null,
      "outputs": []
    },
    {
      "cell_type": "code",
      "source": [
        "car(color = 'black', model = 'R8', brand = 'Audi')"
      ],
      "metadata": {
        "colab": {
          "base_uri": "https://localhost:8080/"
        },
        "id": "aZXJRMtO7mMM",
        "outputId": "7dca4ab4-36aa-4687-a36d-39d9347a64b3"
      },
      "execution_count": null,
      "outputs": [
        {
          "output_type": "stream",
          "name": "stdout",
          "text": [
            "My favoruite car  is the Audi R8 in the color black\n"
          ]
        }
      ]
    },
    {
      "cell_type": "code",
      "source": [
        "number = 13\n",
        "\n",
        "def change_number():\n",
        "  number = 4\n",
        "\n",
        "change_number()\n",
        "print(number)"
      ],
      "metadata": {
        "colab": {
          "base_uri": "https://localhost:8080/"
        },
        "id": "uS846SG87mEe",
        "outputId": "6f45b2be-4a64-4572-cbe7-a30ddac673f4"
      },
      "execution_count": null,
      "outputs": [
        {
          "output_type": "stream",
          "name": "stdout",
          "text": [
            "13\n"
          ]
        }
      ]
    },
    {
      "cell_type": "code",
      "source": [
        "def change_number():\n",
        "  global number\n",
        "  number = 4\n",
        "\n",
        "change_number()\n",
        "print(number)"
      ],
      "metadata": {
        "colab": {
          "base_uri": "https://localhost:8080/"
        },
        "id": "JXcRagPY83ur",
        "outputId": "ce85815e-3325-429e-bbb3-2d764bebaed8"
      },
      "execution_count": null,
      "outputs": [
        {
          "output_type": "stream",
          "name": "stdout",
          "text": [
            "4\n"
          ]
        }
      ]
    },
    {
      "cell_type": "code",
      "source": [
        "!pip install seaborn"
      ],
      "metadata": {
        "colab": {
          "base_uri": "https://localhost:8080/"
        },
        "id": "OB_bPCh79Q60",
        "outputId": "469594bb-4734-4a22-8074-608a685d7565"
      },
      "execution_count": null,
      "outputs": [
        {
          "output_type": "stream",
          "name": "stdout",
          "text": [
            "Looking in indexes: https://pypi.org/simple, https://us-python.pkg.dev/colab-wheels/public/simple/\n",
            "Requirement already satisfied: seaborn in /usr/local/lib/python3.8/dist-packages (0.11.2)\n",
            "Requirement already satisfied: numpy>=1.15 in /usr/local/lib/python3.8/dist-packages (from seaborn) (1.21.6)\n",
            "Requirement already satisfied: scipy>=1.0 in /usr/local/lib/python3.8/dist-packages (from seaborn) (1.7.3)\n",
            "Requirement already satisfied: pandas>=0.23 in /usr/local/lib/python3.8/dist-packages (from seaborn) (1.3.5)\n",
            "Requirement already satisfied: matplotlib>=2.2 in /usr/local/lib/python3.8/dist-packages (from seaborn) (3.2.2)\n",
            "Requirement already satisfied: kiwisolver>=1.0.1 in /usr/local/lib/python3.8/dist-packages (from matplotlib>=2.2->seaborn) (1.4.4)\n",
            "Requirement already satisfied: python-dateutil>=2.1 in /usr/local/lib/python3.8/dist-packages (from matplotlib>=2.2->seaborn) (2.8.2)\n",
            "Requirement already satisfied: cycler>=0.10 in /usr/local/lib/python3.8/dist-packages (from matplotlib>=2.2->seaborn) (0.11.0)\n",
            "Requirement already satisfied: pyparsing!=2.0.4,!=2.1.2,!=2.1.6,>=2.0.1 in /usr/local/lib/python3.8/dist-packages (from matplotlib>=2.2->seaborn) (3.0.9)\n",
            "Requirement already satisfied: pytz>=2017.3 in /usr/local/lib/python3.8/dist-packages (from pandas>=0.23->seaborn) (2022.7.1)\n",
            "Requirement already satisfied: six>=1.5 in /usr/local/lib/python3.8/dist-packages (from python-dateutil>=2.1->matplotlib>=2.2->seaborn) (1.15.0)\n"
          ]
        }
      ]
    },
    {
      "cell_type": "code",
      "source": [
        "import seaborn as sns\n",
        "\n",
        "data = [1,2,10,3,5,6,13]\n",
        "\n",
        "sns.lineplot(range(7), data)\n"
      ],
      "metadata": {
        "colab": {
          "base_uri": "https://localhost:8080/",
          "height": 340
        },
        "id": "RqX8pIRQMxqI",
        "outputId": "c7fe3b23-a4af-4754-ad25-260b5cecac0d"
      },
      "execution_count": null,
      "outputs": [
        {
          "output_type": "stream",
          "name": "stderr",
          "text": [
            "/usr/local/lib/python3.8/dist-packages/seaborn/_decorators.py:36: FutureWarning: Pass the following variables as keyword args: x, y. From version 0.12, the only valid positional argument will be `data`, and passing other arguments without an explicit keyword will result in an error or misinterpretation.\n",
            "  warnings.warn(\n"
          ]
        },
        {
          "output_type": "execute_result",
          "data": {
            "text/plain": [
              "<matplotlib.axes._subplots.AxesSubplot at 0x7f9bc79dee80>"
            ]
          },
          "metadata": {},
          "execution_count": 38
        },
        {
          "output_type": "display_data",
          "data": {
            "text/plain": [
              "<Figure size 432x288 with 1 Axes>"
            ],
            "image/png": "[encoded data removed]"
          },
          "metadata": {
            "needs_background": "light"
          }
        }
      ]
    },
    {
      "cell_type": "code",
      "source": [
        "number_list = [1,2,3,4,5]\n",
        "\n",
        "square_list = []\n",
        "\n",
        "for num in number_list:\n",
        "  square_list.append(num**2)\n",
        "\n",
        "print(square_list)"
      ],
      "metadata": {
        "colab": {
          "base_uri": "https://localhost:8080/"
        },
        "id": "FluCo463VSQZ",
        "outputId": "54757124-f164-43c3-b725-1130514e1aa9"
      },
      "execution_count": null,
      "outputs": [
        {
          "output_type": "stream",
          "name": "stdout",
          "text": [
            "[1, 4, 9, 16, 25]\n"
          ]
        }
      ]
    },
    {
      "cell_type": "code",
      "source": [
        "number_list = [1,2,3,4,5]\n",
        "square_list = [num**2 for num in number_list]\n",
        "\n",
        "print(square_list)"
      ],
      "metadata": {
        "colab": {
          "base_uri": "https://localhost:8080/"
        },
        "id": "eFvbTw6Mad0R",
        "outputId": "13bf7db3-1e37-45a2-9af5-c80c4dd8bd8f"
      },
      "execution_count": null,
      "outputs": [
        {
          "output_type": "stream",
          "name": "stdout",
          "text": [
            "[1, 4, 9, 16, 25]\n"
          ]
        }
      ]
    },
    {
      "cell_type": "code",
      "source": [
        "shopping_list = ('Apple', 'Juice', 'Ball', 'Book')\n",
        "\n",
        "item1, item2, item3 , item4 = shopping_list\n",
        "print(item1)\n",
        "print(item2)\n",
        "print(item3)\n",
        "print(item4)\n",
        "\n",
        "print(shopping_list[0])\n",
        "\n",
        "print(shopping_list[1:3])\n",
        "\n",
        "\n",
        "\n"
      ],
      "metadata": {
        "colab": {
          "base_uri": "https://localhost:8080/"
        },
        "id": "H_xaN2u7a-Hc",
        "outputId": "03d17c06-e2d8-4b15-fb05-71f72b8caead"
      },
      "execution_count": null,
      "outputs": [
        {
          "output_type": "stream",
          "name": "stdout",
          "text": [
            "Apple\n",
            "Juice\n",
            "Ball\n",
            "Book\n",
            "Apple\n",
            "('Juice', 'Ball')\n"
          ]
        }
      ]
    },
    {
      "cell_type": "code",
      "source": [
        "inventory = dict()\n",
        "\n",
        "inventory['bananas'] = 23\n",
        "inventory['apples'] = 124\n",
        "inventory['oranes'] = 44\n",
        "inventory['watermelons'] = 44"
      ],
      "metadata": {
        "id": "lvSBHsRLdnV3"
      },
      "execution_count": null,
      "outputs": []
    },
    {
      "cell_type": "code",
      "source": [
        "print(inventory)\n",
        "print(inventory.values())\n",
        "print(inventory.items())"
      ],
      "metadata": {
        "colab": {
          "base_uri": "https://localhost:8080/"
        },
        "id": "Jp3lIHZwfFrJ",
        "outputId": "2f766094-531d-4b20-fa48-210feffe7dbc"
      },
      "execution_count": null,
      "outputs": [
        {
          "output_type": "stream",
          "name": "stdout",
          "text": [
            "{'bananas': 23, 'apples': 124, 'oranes': 44, 'watermelons': 44}\n",
            "dict_values([23, 124, 44, 44])\n",
            "dict_items([('bananas', 23), ('apples', 124), ('oranes', 44), ('watermelons', 44)])\n"
          ]
        }
      ]
    },
    {
      "cell_type": "code",
      "source": [
        "for key in inventory:\n",
        "  inventory[key] += 100\n",
        "print(inventory)"
      ],
      "metadata": {
        "colab": {
          "base_uri": "https://localhost:8080/"
        },
        "id": "YNwcIkX2fezV",
        "outputId": "d579bde6-c65b-42ea-faa5-2eeeabe46bde"
      },
      "execution_count": null,
      "outputs": [
        {
          "output_type": "stream",
          "name": "stdout",
          "text": [
            "{'bananas': 123, 'apples': 224, 'oranes': 144, 'watermelons': 144}\n"
          ]
        }
      ]
    },
    {
      "cell_type": "code",
      "source": [
        "for key,value in inventory.items():\n",
        "  if value > 200:\n",
        "    print('Too many', key)\n",
        "  else:\n",
        "    print('Enough', key)"
      ],
      "metadata": {
        "colab": {
          "base_uri": "https://localhost:8080/"
        },
        "id": "fvh-9mRhf1iS",
        "outputId": "5ef14706-b46a-45af-ca8a-03f7545e1634"
      },
      "execution_count": null,
      "outputs": [
        {
          "output_type": "stream",
          "name": "stdout",
          "text": [
            "Enough bananas\n",
            "Too many apples\n",
            "Enough oranes\n",
            "Enough watermelons\n"
          ]
        }
      ]
    },
    {
      "cell_type": "code",
      "source": [
        "mystr = '0.2'\n",
        "\n",
        "print(type(mystr))"
      ],
      "metadata": {
        "colab": {
          "base_uri": "https://localhost:8080/"
        },
        "id": "hlfUepydh6vP",
        "outputId": "0f0c2992-1b25-4ab7-cc17-13e8ac94acb5"
      },
      "execution_count": null,
      "outputs": [
        {
          "output_type": "stream",
          "name": "stdout",
          "text": [
            "<class 'str'>\n"
          ]
        }
      ]
    },
    {
      "cell_type": "code",
      "source": [
        "q = range(5)\n",
        "w = [num ** 2 for num in q]\n",
        "print(w)"
      ],
      "metadata": {
        "colab": {
          "base_uri": "https://localhost:8080/"
        },
        "id": "9pfud2usipIt",
        "outputId": "58931b42-5823-4ef7-b062-5a2ec8cbd614"
      },
      "execution_count": null,
      "outputs": [
        {
          "output_type": "stream",
          "name": "stdout",
          "text": [
            "[0, 1, 4, 9, 16]\n"
          ]
        }
      ]
    },
    {
      "cell_type": "code",
      "source": [
        "price = 20\n",
        "print(type(price))\n",
        "price = float(price) \n",
        "print(type(price))\n"
      ],
      "metadata": {
        "colab": {
          "base_uri": "https://localhost:8080/"
        },
        "id": "emXHZfR4ldSw",
        "outputId": "650a896b-258d-4eb0-fb6b-0eecab6dd72c"
      },
      "execution_count": null,
      "outputs": [
        {
          "output_type": "stream",
          "name": "stdout",
          "text": [
            "<class 'int'>\n",
            "<class 'float'>\n"
          ]
        }
      ]
    },
    {
      "cell_type": "code",
      "source": [
        "message_file = open(\"message.txt\" , \"r\")\n",
        "content = message_file.read()\n",
        "message_file.close()"
      ],
      "metadata": {
        "colab": {
          "base_uri": "https://localhost:8080/",
          "height": 207
        },
        "id": "fnOP3NO5xKIw",
        "outputId": "b04806f7-b1fc-4fe0-d9b2-7104a55ef73b"
      },
      "execution_count": null,
      "outputs": [
        {
          "output_type": "error",
          "ename": "FileNotFoundError",
          "evalue": "ignored",
          "traceback": [
            "\u001b[0;31m---------------------------------------------------------------------------\u001b[0m",
            "\u001b[0;31mFileNotFoundError\u001b[0m                         Traceback (most recent call last)",
            "\u001b[0;32m<ipython-input-3-da7976e6dee9>\u001b[0m in \u001b[0;36m<module>\u001b[0;34m\u001b[0m\n\u001b[0;32m----> 1\u001b[0;31m \u001b[0mmessage_file\u001b[0m \u001b[0;34m=\u001b[0m \u001b[0mopen\u001b[0m\u001b[0;34m(\u001b[0m\u001b[0;34m\"message.txt\"\u001b[0m \u001b[0;34m,\u001b[0m \u001b[0;34m\"r\"\u001b[0m\u001b[0;34m)\u001b[0m\u001b[0;34m\u001b[0m\u001b[0;34m\u001b[0m\u001b[0m\n\u001b[0m\u001b[1;32m      2\u001b[0m \u001b[0mcontent\u001b[0m \u001b[0;34m=\u001b[0m \u001b[0mmessage_file\u001b[0m\u001b[0;34m.\u001b[0m\u001b[0mread\u001b[0m\u001b[0;34m(\u001b[0m\u001b[0;34m)\u001b[0m\u001b[0;34m\u001b[0m\u001b[0;34m\u001b[0m\u001b[0m\n\u001b[1;32m      3\u001b[0m \u001b[0mmessage_file\u001b[0m\u001b[0;34m.\u001b[0m\u001b[0mclose\u001b[0m\u001b[0;34m(\u001b[0m\u001b[0;34m)\u001b[0m\u001b[0;34m\u001b[0m\u001b[0;34m\u001b[0m\u001b[0m\n",
            "\u001b[0;31mFileNotFoundError\u001b[0m: [Errno 2] No such file or directory: 'message.txt'"
          ]
        }
      ]
    },
    {
      "cell_type": "code",
      "source": [
        "print(content)"
      ],
      "metadata": {
        "colab": {
          "base_uri": "https://localhost:8080/",
          "height": 171
        },
        "id": "lQAI6bL11aZY",
        "outputId": "32e74f2a-1662-412a-972e-683069f142d7"
      },
      "execution_count": null,
      "outputs": [
        {
          "output_type": "error",
          "ename": "NameError",
          "evalue": "ignored",
          "traceback": [
            "\u001b[0;31m---------------------------------------------------------------------------\u001b[0m",
            "\u001b[0;31mNameError\u001b[0m                                 Traceback (most recent call last)",
            "\u001b[0;32m<ipython-input-4-017556a809df>\u001b[0m in \u001b[0;36m<module>\u001b[0;34m\u001b[0m\n\u001b[0;32m----> 1\u001b[0;31m \u001b[0mprint\u001b[0m\u001b[0;34m(\u001b[0m\u001b[0mcontent\u001b[0m\u001b[0;34m)\u001b[0m\u001b[0;34m\u001b[0m\u001b[0;34m\u001b[0m\u001b[0m\n\u001b[0m",
            "\u001b[0;31mNameError\u001b[0m: name 'content' is not defined"
          ]
        }
      ]
    },
    {
      "cell_type": "code",
      "source": [
        "hello_file = open(\"hello.txt\" , \"w\")"
      ],
      "metadata": {
        "id": "r-YAbdIa1xHS"
      },
      "execution_count": null,
      "outputs": []
    },
    {
      "cell_type": "code",
      "source": [
        "# specifying the full path \n",
        "message_file = open(\"/content/file_operation/message.txt\")\n",
        "\n",
        "message_file  =open(\"/content/file_operation/message.txt\" , \"r\")\n",
        "\n",
        "content = message_file.read()\n",
        "message_file.close()\n",
        "\n",
        "print(content)"
      ],
      "metadata": {
        "id": "hfKcsI8A5YSF",
        "colab": {
          "base_uri": "https://localhost:8080/"
        },
        "outputId": "224d3585-970a-443e-e84e-83334ac87e8a"
      },
      "execution_count": null,
      "outputs": [
        {
          "output_type": "stream",
          "name": "stdout",
          "text": [
            "Mustafa Şahin\n"
          ]
        }
      ]
    },
    {
      "cell_type": "code",
      "source": [
        "import random\n",
        "\n",
        "numbers_file  =open(\"/content/file_operation/numbers.txt\" , \"w\")\n",
        "\n",
        "while True:\n",
        "  random_number = random.randrange(1000)\n",
        "  print(random_number)\n",
        "  numbers_file.write(str(random_number))\n",
        "  numbers_file.write('\\n')\n",
        "  if(random_number) == 777:\n",
        "    print('777 bulundu')\n",
        "    break\n",
        "\n"
      ],
      "metadata": {
        "colab": {
          "base_uri": "https://localhost:8080/"
        },
        "id": "kvvVTE8oADBx",
        "outputId": "ad90522f-8f92-4e9a-b7d3-3d7c060dad0e"
      },
      "execution_count": null,
      "outputs": [
        {
          "output_type": "stream",
          "name": "stdout",
          "text": [
            "442\n",
            "618\n",
            "892\n",
            "104\n",
            "654\n",
            "192\n",
            "24\n",
            "499\n",
            "9\n",
            "758\n",
            "314\n",
            "414\n",
            "34\n",
            "498\n",
            "669\n",
            "741\n",
            "115\n",
            "560\n",
            "232\n",
            "393\n",
            "544\n",
            "7\n",
            "75\n",
            "626\n",
            "572\n",
            "124\n",
            "45\n",
            "443\n",
            "579\n",
            "935\n",
            "194\n",
            "830\n",
            "383\n",
            "476\n",
            "246\n",
            "289\n",
            "169\n",
            "25\n",
            "500\n",
            "918\n",
            "988\n",
            "7\n",
            "106\n",
            "970\n",
            "78\n",
            "85\n",
            "67\n",
            "89\n",
            "688\n",
            "631\n",
            "200\n",
            "773\n",
            "231\n",
            "821\n",
            "292\n",
            "52\n",
            "382\n",
            "93\n",
            "918\n",
            "592\n",
            "757\n",
            "495\n",
            "724\n",
            "443\n",
            "813\n",
            "93\n",
            "267\n",
            "890\n",
            "211\n",
            "605\n",
            "370\n",
            "99\n",
            "195\n",
            "242\n",
            "174\n",
            "369\n",
            "709\n",
            "665\n",
            "339\n",
            "898\n",
            "858\n",
            "496\n",
            "22\n",
            "111\n",
            "818\n",
            "269\n",
            "183\n",
            "358\n",
            "401\n",
            "887\n",
            "40\n",
            "768\n",
            "60\n",
            "563\n",
            "488\n",
            "142\n",
            "17\n",
            "225\n",
            "122\n",
            "553\n",
            "886\n",
            "530\n",
            "352\n",
            "909\n",
            "991\n",
            "701\n",
            "65\n",
            "393\n",
            "453\n",
            "158\n",
            "328\n",
            "377\n",
            "395\n",
            "773\n",
            "702\n",
            "847\n",
            "957\n",
            "452\n",
            "975\n",
            "32\n",
            "939\n",
            "196\n",
            "3\n",
            "774\n",
            "611\n",
            "686\n",
            "940\n",
            "574\n",
            "326\n",
            "236\n",
            "949\n",
            "215\n",
            "322\n",
            "400\n",
            "534\n",
            "134\n",
            "420\n",
            "854\n",
            "947\n",
            "789\n",
            "828\n",
            "147\n",
            "898\n",
            "665\n",
            "684\n",
            "538\n",
            "508\n",
            "666\n",
            "607\n",
            "584\n",
            "626\n",
            "816\n",
            "679\n",
            "132\n",
            "279\n",
            "439\n",
            "660\n",
            "782\n",
            "733\n",
            "951\n",
            "16\n",
            "544\n",
            "325\n",
            "430\n",
            "282\n",
            "291\n",
            "890\n",
            "231\n",
            "30\n",
            "685\n",
            "806\n",
            "477\n",
            "465\n",
            "396\n",
            "219\n",
            "62\n",
            "169\n",
            "956\n",
            "340\n",
            "895\n",
            "567\n",
            "366\n",
            "445\n",
            "721\n",
            "428\n",
            "188\n",
            "164\n",
            "500\n",
            "83\n",
            "350\n",
            "426\n",
            "345\n",
            "670\n",
            "795\n",
            "705\n",
            "672\n",
            "626\n",
            "42\n",
            "117\n",
            "971\n",
            "208\n",
            "224\n",
            "212\n",
            "941\n",
            "634\n",
            "253\n",
            "550\n",
            "915\n",
            "559\n",
            "250\n",
            "912\n",
            "480\n",
            "342\n",
            "134\n",
            "502\n",
            "904\n",
            "498\n",
            "462\n",
            "73\n",
            "126\n",
            "374\n",
            "669\n",
            "642\n",
            "979\n",
            "747\n",
            "556\n",
            "687\n",
            "801\n",
            "21\n",
            "682\n",
            "547\n",
            "617\n",
            "815\n",
            "568\n",
            "227\n",
            "486\n",
            "776\n",
            "297\n",
            "180\n",
            "819\n",
            "477\n",
            "606\n",
            "856\n",
            "172\n",
            "246\n",
            "397\n",
            "746\n",
            "908\n",
            "507\n",
            "487\n",
            "42\n",
            "765\n",
            "715\n",
            "878\n",
            "538\n",
            "512\n",
            "351\n",
            "372\n",
            "166\n",
            "592\n",
            "205\n",
            "298\n",
            "797\n",
            "760\n",
            "420\n",
            "592\n",
            "249\n",
            "405\n",
            "831\n",
            "873\n",
            "1\n",
            "887\n",
            "470\n",
            "479\n",
            "236\n",
            "417\n",
            "858\n",
            "894\n",
            "401\n",
            "313\n",
            "364\n",
            "598\n",
            "736\n",
            "567\n",
            "723\n",
            "691\n",
            "260\n",
            "625\n",
            "226\n",
            "837\n",
            "266\n",
            "85\n",
            "516\n",
            "989\n",
            "460\n",
            "44\n",
            "644\n",
            "429\n",
            "576\n",
            "253\n",
            "504\n",
            "258\n",
            "938\n",
            "761\n",
            "275\n",
            "757\n",
            "695\n",
            "571\n",
            "90\n",
            "982\n",
            "492\n",
            "114\n",
            "121\n",
            "241\n",
            "768\n",
            "537\n",
            "618\n",
            "238\n",
            "522\n",
            "269\n",
            "901\n",
            "634\n",
            "457\n",
            "666\n",
            "264\n",
            "82\n",
            "191\n",
            "619\n",
            "190\n",
            "853\n",
            "42\n",
            "177\n",
            "684\n",
            "294\n",
            "542\n",
            "379\n",
            "807\n",
            "840\n",
            "44\n",
            "984\n",
            "186\n",
            "429\n",
            "129\n",
            "245\n",
            "847\n",
            "647\n",
            "361\n",
            "565\n",
            "573\n",
            "506\n",
            "841\n",
            "822\n",
            "520\n",
            "897\n",
            "534\n",
            "619\n",
            "498\n",
            "304\n",
            "939\n",
            "149\n",
            "656\n",
            "616\n",
            "330\n",
            "624\n",
            "824\n",
            "470\n",
            "727\n",
            "420\n",
            "652\n",
            "562\n",
            "72\n",
            "398\n",
            "655\n",
            "130\n",
            "685\n",
            "557\n",
            "200\n",
            "505\n",
            "403\n",
            "456\n",
            "995\n",
            "682\n",
            "552\n",
            "736\n",
            "913\n",
            "332\n",
            "281\n",
            "270\n",
            "680\n",
            "999\n",
            "190\n",
            "556\n",
            "776\n",
            "377\n",
            "335\n",
            "655\n",
            "601\n",
            "166\n",
            "415\n",
            "262\n",
            "564\n",
            "929\n",
            "310\n",
            "418\n",
            "655\n",
            "84\n",
            "960\n",
            "188\n",
            "720\n",
            "8\n",
            "467\n",
            "885\n",
            "816\n",
            "908\n",
            "873\n",
            "973\n",
            "695\n",
            "319\n",
            "296\n",
            "13\n",
            "149\n",
            "68\n",
            "723\n",
            "13\n",
            "34\n",
            "723\n",
            "676\n",
            "619\n",
            "371\n",
            "610\n",
            "959\n",
            "904\n",
            "605\n",
            "848\n",
            "201\n",
            "60\n",
            "504\n",
            "187\n",
            "880\n",
            "64\n",
            "559\n",
            "484\n",
            "159\n",
            "563\n",
            "615\n",
            "852\n",
            "798\n",
            "973\n",
            "833\n",
            "641\n",
            "763\n",
            "445\n",
            "584\n",
            "475\n",
            "331\n",
            "241\n",
            "51\n",
            "723\n",
            "235\n",
            "673\n",
            "66\n",
            "183\n",
            "407\n",
            "635\n",
            "595\n",
            "920\n",
            "725\n",
            "136\n",
            "704\n",
            "941\n",
            "774\n",
            "54\n",
            "357\n",
            "978\n",
            "319\n",
            "956\n",
            "676\n",
            "15\n",
            "894\n",
            "962\n",
            "562\n",
            "767\n",
            "783\n",
            "842\n",
            "37\n",
            "970\n",
            "354\n",
            "205\n",
            "410\n",
            "934\n",
            "611\n",
            "14\n",
            "547\n",
            "595\n",
            "790\n",
            "219\n",
            "951\n",
            "561\n",
            "271\n",
            "387\n",
            "264\n",
            "713\n",
            "149\n",
            "104\n",
            "82\n",
            "788\n",
            "365\n",
            "558\n",
            "987\n",
            "626\n",
            "691\n",
            "146\n",
            "58\n",
            "230\n",
            "141\n",
            "800\n",
            "88\n",
            "247\n",
            "706\n",
            "410\n",
            "413\n",
            "989\n",
            "955\n",
            "864\n",
            "814\n",
            "645\n",
            "23\n",
            "680\n",
            "0\n",
            "298\n",
            "649\n",
            "172\n",
            "703\n",
            "130\n",
            "395\n",
            "567\n",
            "546\n",
            "584\n",
            "586\n",
            "575\n",
            "650\n",
            "896\n",
            "537\n",
            "875\n",
            "957\n",
            "197\n",
            "971\n",
            "951\n",
            "680\n",
            "266\n",
            "335\n",
            "418\n",
            "813\n",
            "717\n",
            "786\n",
            "821\n",
            "453\n",
            "621\n",
            "747\n",
            "678\n",
            "714\n",
            "84\n",
            "480\n",
            "741\n",
            "357\n",
            "131\n",
            "31\n",
            "268\n",
            "6\n",
            "725\n",
            "763\n",
            "102\n",
            "677\n",
            "811\n",
            "59\n",
            "58\n",
            "71\n",
            "656\n",
            "550\n",
            "809\n",
            "239\n",
            "179\n",
            "563\n",
            "335\n",
            "477\n",
            "679\n",
            "395\n",
            "863\n",
            "73\n",
            "865\n",
            "100\n",
            "440\n",
            "580\n",
            "405\n",
            "132\n",
            "384\n",
            "488\n",
            "973\n",
            "751\n",
            "546\n",
            "326\n",
            "285\n",
            "456\n",
            "150\n",
            "492\n",
            "687\n",
            "147\n",
            "665\n",
            "320\n",
            "977\n",
            "352\n",
            "727\n",
            "0\n",
            "869\n",
            "425\n",
            "430\n",
            "596\n",
            "618\n",
            "600\n",
            "863\n",
            "988\n",
            "786\n",
            "873\n",
            "620\n",
            "50\n",
            "426\n",
            "440\n",
            "254\n",
            "14\n",
            "753\n",
            "220\n",
            "825\n",
            "312\n",
            "688\n",
            "503\n",
            "755\n",
            "861\n",
            "197\n",
            "295\n",
            "279\n",
            "982\n",
            "434\n",
            "262\n",
            "216\n",
            "524\n",
            "754\n",
            "831\n",
            "673\n",
            "319\n",
            "399\n",
            "444\n",
            "357\n",
            "998\n",
            "849\n",
            "345\n",
            "508\n",
            "437\n",
            "359\n",
            "675\n",
            "673\n",
            "65\n",
            "594\n",
            "71\n",
            "537\n",
            "870\n",
            "791\n",
            "251\n",
            "940\n",
            "743\n",
            "24\n",
            "203\n",
            "511\n",
            "111\n",
            "577\n",
            "8\n",
            "252\n",
            "555\n",
            "243\n",
            "116\n",
            "544\n",
            "526\n",
            "851\n",
            "82\n",
            "646\n",
            "516\n",
            "456\n",
            "263\n",
            "543\n",
            "239\n",
            "651\n",
            "746\n",
            "649\n",
            "638\n",
            "520\n",
            "954\n",
            "200\n",
            "770\n",
            "986\n",
            "230\n",
            "377\n",
            "78\n",
            "621\n",
            "622\n",
            "592\n",
            "507\n",
            "969\n",
            "374\n",
            "638\n",
            "573\n",
            "402\n",
            "933\n",
            "943\n",
            "799\n",
            "358\n",
            "343\n",
            "683\n",
            "412\n",
            "272\n",
            "538\n",
            "964\n",
            "899\n",
            "150\n",
            "714\n",
            "679\n",
            "819\n",
            "926\n",
            "193\n",
            "116\n",
            "680\n",
            "762\n",
            "406\n",
            "971\n",
            "210\n",
            "929\n",
            "767\n",
            "209\n",
            "714\n",
            "287\n",
            "750\n",
            "846\n",
            "25\n",
            "980\n",
            "288\n",
            "364\n",
            "827\n",
            "133\n",
            "566\n",
            "800\n",
            "197\n",
            "87\n",
            "898\n",
            "898\n",
            "72\n",
            "779\n",
            "55\n",
            "890\n",
            "39\n",
            "570\n",
            "329\n",
            "16\n",
            "147\n",
            "975\n",
            "668\n",
            "440\n",
            "339\n",
            "332\n",
            "209\n",
            "856\n",
            "319\n",
            "44\n",
            "359\n",
            "790\n",
            "995\n",
            "138\n",
            "923\n",
            "98\n",
            "36\n",
            "492\n",
            "31\n",
            "566\n",
            "11\n",
            "191\n",
            "635\n",
            "515\n",
            "70\n",
            "908\n",
            "912\n",
            "18\n",
            "321\n",
            "625\n",
            "762\n",
            "132\n",
            "566\n",
            "227\n",
            "325\n",
            "154\n",
            "423\n",
            "136\n",
            "739\n",
            "743\n",
            "993\n",
            "736\n",
            "451\n",
            "607\n",
            "612\n",
            "506\n",
            "46\n",
            "37\n",
            "394\n",
            "177\n",
            "882\n",
            "196\n",
            "597\n",
            "607\n",
            "66\n",
            "761\n",
            "953\n",
            "803\n",
            "618\n",
            "956\n",
            "671\n",
            "682\n",
            "618\n",
            "985\n",
            "544\n",
            "299\n",
            "937\n",
            "854\n",
            "51\n",
            "663\n",
            "342\n",
            "602\n",
            "773\n",
            "407\n",
            "770\n",
            "337\n",
            "844\n",
            "40\n",
            "947\n",
            "661\n",
            "143\n",
            "299\n",
            "11\n",
            "455\n",
            "915\n",
            "356\n",
            "66\n",
            "38\n",
            "317\n",
            "908\n",
            "848\n",
            "325\n",
            "499\n",
            "699\n",
            "387\n",
            "213\n",
            "61\n",
            "781\n",
            "602\n",
            "239\n",
            "921\n",
            "773\n",
            "815\n",
            "677\n",
            "466\n",
            "200\n",
            "543\n",
            "28\n",
            "809\n",
            "198\n",
            "438\n",
            "5\n",
            "360\n",
            "793\n",
            "489\n",
            "592\n",
            "911\n",
            "590\n",
            "827\n",
            "193\n",
            "390\n",
            "304\n",
            "705\n",
            "92\n",
            "773\n",
            "883\n",
            "677\n",
            "841\n",
            "886\n",
            "861\n",
            "494\n",
            "561\n",
            "73\n",
            "780\n",
            "200\n",
            "967\n",
            "189\n",
            "238\n",
            "582\n",
            "30\n",
            "420\n",
            "274\n",
            "521\n",
            "670\n",
            "763\n",
            "922\n",
            "732\n",
            "665\n",
            "93\n",
            "759\n",
            "819\n",
            "534\n",
            "120\n",
            "501\n",
            "905\n",
            "822\n",
            "991\n",
            "543\n",
            "206\n",
            "61\n",
            "984\n",
            "89\n",
            "793\n",
            "460\n",
            "519\n",
            "266\n",
            "319\n",
            "240\n",
            "543\n",
            "936\n",
            "280\n",
            "689\n",
            "627\n",
            "495\n",
            "31\n",
            "436\n",
            "920\n",
            "483\n",
            "502\n",
            "278\n",
            "257\n",
            "461\n",
            "881\n",
            "424\n",
            "555\n",
            "621\n",
            "103\n",
            "191\n",
            "680\n",
            "783\n",
            "187\n",
            "710\n",
            "466\n",
            "961\n",
            "21\n",
            "908\n",
            "387\n",
            "155\n",
            "559\n",
            "429\n",
            "18\n",
            "856\n",
            "526\n",
            "796\n",
            "496\n",
            "93\n",
            "86\n",
            "164\n",
            "302\n",
            "998\n",
            "932\n",
            "47\n",
            "90\n",
            "431\n",
            "768\n",
            "248\n",
            "553\n",
            "128\n",
            "396\n",
            "539\n",
            "247\n",
            "189\n",
            "147\n",
            "502\n",
            "460\n",
            "815\n",
            "619\n",
            "81\n",
            "607\n",
            "967\n",
            "100\n",
            "194\n",
            "592\n",
            "478\n",
            "873\n",
            "568\n",
            "364\n",
            "440\n",
            "285\n",
            "808\n",
            "284\n",
            "224\n",
            "5\n",
            "227\n",
            "205\n",
            "886\n",
            "872\n",
            "461\n",
            "628\n",
            "49\n",
            "655\n",
            "995\n",
            "711\n",
            "392\n",
            "536\n",
            "959\n",
            "158\n",
            "373\n",
            "172\n",
            "189\n",
            "808\n",
            "171\n",
            "651\n",
            "454\n",
            "652\n",
            "563\n",
            "338\n",
            "579\n",
            "143\n",
            "680\n",
            "477\n",
            "461\n",
            "579\n",
            "97\n",
            "57\n",
            "920\n",
            "457\n",
            "618\n",
            "339\n",
            "627\n",
            "464\n",
            "372\n",
            "66\n",
            "797\n",
            "97\n",
            "347\n",
            "794\n",
            "672\n",
            "260\n",
            "970\n",
            "189\n",
            "884\n",
            "898\n",
            "320\n",
            "752\n",
            "568\n",
            "11\n",
            "105\n",
            "737\n",
            "467\n",
            "386\n",
            "432\n",
            "288\n",
            "540\n",
            "431\n",
            "285\n",
            "772\n",
            "407\n",
            "992\n",
            "248\n",
            "474\n",
            "495\n",
            "746\n",
            "689\n",
            "176\n",
            "308\n",
            "336\n",
            "932\n",
            "833\n",
            "288\n",
            "354\n",
            "715\n",
            "507\n",
            "582\n",
            "154\n",
            "682\n",
            "639\n",
            "666\n",
            "592\n",
            "96\n",
            "320\n",
            "525\n",
            "943\n",
            "438\n",
            "405\n",
            "858\n",
            "297\n",
            "469\n",
            "752\n",
            "120\n",
            "57\n",
            "540\n",
            "587\n",
            "548\n",
            "781\n",
            "452\n",
            "356\n",
            "300\n",
            "387\n",
            "912\n",
            "622\n",
            "707\n",
            "507\n",
            "928\n",
            "811\n",
            "851\n",
            "435\n",
            "235\n",
            "186\n",
            "290\n",
            "803\n",
            "100\n",
            "396\n",
            "975\n",
            "737\n",
            "278\n",
            "470\n",
            "108\n",
            "273\n",
            "869\n",
            "688\n",
            "490\n",
            "843\n",
            "335\n",
            "740\n",
            "92\n",
            "997\n",
            "678\n",
            "686\n",
            "803\n",
            "711\n",
            "667\n",
            "291\n",
            "173\n",
            "54\n",
            "787\n",
            "387\n",
            "334\n",
            "892\n",
            "661\n",
            "842\n",
            "4\n",
            "900\n",
            "112\n",
            "573\n",
            "886\n",
            "508\n",
            "949\n",
            "947\n",
            "766\n",
            "131\n",
            "560\n",
            "798\n",
            "524\n",
            "545\n",
            "175\n",
            "242\n",
            "542\n",
            "686\n",
            "998\n",
            "654\n",
            "896\n",
            "360\n",
            "804\n",
            "361\n",
            "211\n",
            "7\n",
            "967\n",
            "369\n",
            "937\n",
            "235\n",
            "166\n",
            "876\n",
            "718\n",
            "925\n",
            "212\n",
            "907\n",
            "974\n",
            "743\n",
            "51\n",
            "237\n",
            "273\n",
            "202\n",
            "309\n",
            "336\n",
            "355\n",
            "863\n",
            "708\n",
            "694\n",
            "332\n",
            "0\n",
            "739\n",
            "200\n",
            "960\n",
            "584\n",
            "800\n",
            "296\n",
            "582\n",
            "773\n",
            "884\n",
            "223\n",
            "596\n",
            "366\n",
            "13\n",
            "848\n",
            "643\n",
            "905\n",
            "31\n",
            "902\n",
            "539\n",
            "869\n",
            "417\n",
            "549\n",
            "97\n",
            "575\n",
            "42\n",
            "571\n",
            "859\n",
            "482\n",
            "433\n",
            "566\n",
            "679\n",
            "944\n",
            "714\n",
            "601\n",
            "872\n",
            "228\n",
            "47\n",
            "106\n",
            "420\n",
            "368\n",
            "596\n",
            "202\n",
            "823\n",
            "565\n",
            "567\n",
            "637\n",
            "216\n",
            "171\n",
            "300\n",
            "396\n",
            "907\n",
            "36\n",
            "642\n",
            "748\n",
            "810\n",
            "388\n",
            "867\n",
            "958\n",
            "261\n",
            "200\n",
            "962\n",
            "145\n",
            "76\n",
            "710\n",
            "982\n",
            "492\n",
            "852\n",
            "113\n",
            "265\n",
            "867\n",
            "464\n",
            "209\n",
            "153\n",
            "257\n",
            "93\n",
            "329\n",
            "29\n",
            "167\n",
            "62\n",
            "772\n",
            "487\n",
            "655\n",
            "699\n",
            "519\n",
            "706\n",
            "403\n",
            "863\n",
            "40\n",
            "653\n",
            "32\n",
            "228\n",
            "516\n",
            "938\n",
            "324\n",
            "958\n",
            "126\n",
            "157\n",
            "830\n",
            "164\n",
            "1\n",
            "190\n",
            "212\n",
            "935\n",
            "558\n",
            "622\n",
            "676\n",
            "956\n",
            "334\n",
            "99\n",
            "665\n",
            "508\n",
            "769\n",
            "142\n",
            "505\n",
            "903\n",
            "850\n",
            "276\n",
            "352\n",
            "552\n",
            "414\n",
            "830\n",
            "270\n",
            "999\n",
            "742\n",
            "105\n",
            "731\n",
            "532\n",
            "896\n",
            "220\n",
            "822\n",
            "275\n",
            "888\n",
            "566\n",
            "817\n",
            "280\n",
            "411\n",
            "740\n",
            "448\n",
            "430\n",
            "611\n",
            "795\n",
            "11\n",
            "746\n",
            "351\n",
            "912\n",
            "587\n",
            "338\n",
            "379\n",
            "308\n",
            "730\n",
            "292\n",
            "201\n",
            "279\n",
            "593\n",
            "750\n",
            "435\n",
            "393\n",
            "83\n",
            "255\n",
            "546\n",
            "469\n",
            "568\n",
            "944\n",
            "586\n",
            "476\n",
            "973\n",
            "626\n",
            "702\n",
            "201\n",
            "54\n",
            "604\n",
            "996\n",
            "501\n",
            "635\n",
            "586\n",
            "365\n",
            "549\n",
            "121\n",
            "160\n",
            "856\n",
            "143\n",
            "597\n",
            "925\n",
            "941\n",
            "602\n",
            "332\n",
            "300\n",
            "175\n",
            "55\n",
            "695\n",
            "297\n",
            "224\n",
            "781\n",
            "307\n",
            "347\n",
            "780\n",
            "720\n",
            "544\n",
            "829\n",
            "835\n",
            "273\n",
            "987\n",
            "929\n",
            "912\n",
            "626\n",
            "430\n",
            "507\n",
            "373\n",
            "499\n",
            "83\n",
            "427\n",
            "132\n",
            "922\n",
            "677\n",
            "137\n",
            "74\n",
            "137\n",
            "980\n",
            "29\n",
            "207\n",
            "747\n",
            "254\n",
            "606\n",
            "453\n",
            "798\n",
            "101\n",
            "914\n",
            "676\n",
            "781\n",
            "75\n",
            "736\n",
            "189\n",
            "898\n",
            "264\n",
            "905\n",
            "535\n",
            "825\n",
            "972\n",
            "281\n",
            "997\n",
            "113\n",
            "429\n",
            "959\n",
            "475\n",
            "724\n",
            "789\n",
            "183\n",
            "397\n",
            "508\n",
            "334\n",
            "303\n",
            "171\n",
            "71\n",
            "418\n",
            "857\n",
            "164\n",
            "281\n",
            "524\n",
            "908\n",
            "287\n",
            "226\n",
            "271\n",
            "893\n",
            "437\n",
            "471\n",
            "781\n",
            "155\n",
            "240\n",
            "537\n",
            "141\n",
            "268\n",
            "787\n",
            "190\n",
            "643\n",
            "194\n",
            "394\n",
            "662\n",
            "728\n",
            "622\n",
            "410\n",
            "627\n",
            "830\n",
            "323\n",
            "82\n",
            "334\n",
            "545\n",
            "198\n",
            "675\n",
            "747\n",
            "257\n",
            "525\n",
            "280\n",
            "289\n",
            "126\n",
            "545\n",
            "140\n",
            "52\n",
            "492\n",
            "195\n",
            "993\n",
            "166\n",
            "230\n",
            "30\n",
            "773\n",
            "492\n",
            "391\n",
            "19\n",
            "132\n",
            "451\n",
            "58\n",
            "37\n",
            "100\n",
            "590\n",
            "965\n",
            "23\n",
            "245\n",
            "236\n",
            "15\n",
            "33\n",
            "473\n",
            "649\n",
            "695\n",
            "510\n",
            "200\n",
            "297\n",
            "430\n",
            "540\n",
            "195\n",
            "841\n",
            "108\n",
            "686\n",
            "976\n",
            "581\n",
            "596\n",
            "617\n",
            "326\n",
            "293\n",
            "606\n",
            "605\n",
            "901\n",
            "458\n",
            "132\n",
            "277\n",
            "408\n",
            "418\n",
            "232\n",
            "161\n",
            "442\n",
            "27\n",
            "766\n",
            "879\n",
            "509\n",
            "235\n",
            "864\n",
            "74\n",
            "273\n",
            "295\n",
            "176\n",
            "188\n",
            "391\n",
            "716\n",
            "942\n",
            "188\n",
            "472\n",
            "788\n",
            "769\n",
            "356\n",
            "444\n",
            "852\n",
            "693\n",
            "440\n",
            "24\n",
            "825\n",
            "477\n",
            "473\n",
            "743\n",
            "138\n",
            "282\n",
            "552\n",
            "477\n",
            "385\n",
            "383\n",
            "581\n",
            "559\n",
            "654\n",
            "11\n",
            "60\n",
            "261\n",
            "636\n",
            "271\n",
            "646\n",
            "159\n",
            "320\n",
            "774\n",
            "240\n",
            "880\n",
            "953\n",
            "21\n",
            "557\n",
            "431\n",
            "752\n",
            "93\n",
            "680\n",
            "188\n",
            "442\n",
            "846\n",
            "939\n",
            "314\n",
            "598\n",
            "179\n",
            "169\n",
            "440\n",
            "685\n",
            "722\n",
            "267\n",
            "626\n",
            "900\n",
            "462\n",
            "29\n",
            "978\n",
            "172\n",
            "504\n",
            "96\n",
            "130\n",
            "502\n",
            "453\n",
            "502\n",
            "454\n",
            "213\n",
            "443\n",
            "578\n",
            "236\n",
            "801\n",
            "471\n",
            "131\n",
            "178\n",
            "485\n",
            "479\n",
            "277\n",
            "544\n",
            "610\n",
            "495\n",
            "444\n",
            "398\n",
            "27\n",
            "523\n",
            "999\n",
            "451\n",
            "253\n",
            "658\n",
            "458\n",
            "779\n",
            "726\n",
            "654\n",
            "864\n",
            "731\n",
            "769\n",
            "250\n",
            "932\n",
            "497\n",
            "277\n",
            "763\n",
            "672\n",
            "976\n",
            "113\n",
            "356\n",
            "640\n",
            "186\n",
            "370\n",
            "902\n",
            "200\n",
            "830\n",
            "41\n",
            "255\n",
            "202\n",
            "305\n",
            "92\n",
            "687\n",
            "173\n",
            "551\n",
            "192\n",
            "188\n",
            "140\n",
            "957\n",
            "445\n",
            "289\n",
            "855\n",
            "13\n",
            "338\n",
            "655\n",
            "27\n",
            "166\n",
            "740\n",
            "763\n",
            "885\n",
            "225\n",
            "832\n",
            "729\n",
            "920\n",
            "511\n",
            "633\n",
            "499\n",
            "852\n",
            "297\n",
            "306\n",
            "683\n",
            "512\n",
            "873\n",
            "296\n",
            "443\n",
            "303\n",
            "924\n",
            "356\n",
            "372\n",
            "133\n",
            "53\n",
            "622\n",
            "921\n",
            "611\n",
            "758\n",
            "240\n",
            "783\n",
            "785\n",
            "386\n",
            "821\n",
            "204\n",
            "681\n",
            "361\n",
            "403\n",
            "878\n",
            "521\n",
            "467\n",
            "474\n",
            "903\n",
            "571\n",
            "733\n",
            "148\n",
            "106\n",
            "221\n",
            "207\n",
            "575\n",
            "997\n",
            "979\n",
            "755\n",
            "354\n",
            "418\n",
            "520\n",
            "626\n",
            "680\n",
            "124\n",
            "891\n",
            "639\n",
            "300\n",
            "952\n",
            "390\n",
            "891\n",
            "921\n",
            "414\n",
            "6\n",
            "432\n",
            "244\n",
            "707\n",
            "553\n",
            "160\n",
            "464\n",
            "778\n",
            "484\n",
            "293\n",
            "637\n",
            "148\n",
            "20\n",
            "592\n",
            "30\n",
            "231\n",
            "874\n",
            "267\n",
            "36\n",
            "877\n",
            "596\n",
            "776\n",
            "497\n",
            "863\n",
            "503\n",
            "760\n",
            "679\n",
            "764\n",
            "30\n",
            "75\n",
            "938\n",
            "305\n",
            "541\n",
            "843\n",
            "96\n",
            "876\n",
            "875\n",
            "133\n",
            "614\n",
            "153\n",
            "499\n",
            "866\n",
            "316\n",
            "701\n",
            "162\n",
            "387\n",
            "254\n",
            "204\n",
            "816\n",
            "181\n",
            "850\n",
            "819\n",
            "58\n",
            "773\n",
            "108\n",
            "975\n",
            "376\n",
            "822\n",
            "99\n",
            "231\n",
            "683\n",
            "546\n",
            "359\n",
            "863\n",
            "32\n",
            "580\n",
            "929\n",
            "176\n",
            "728\n",
            "86\n",
            "335\n",
            "135\n",
            "884\n",
            "363\n",
            "691\n",
            "497\n",
            "870\n",
            "685\n",
            "569\n",
            "52\n",
            "93\n",
            "856\n",
            "916\n",
            "990\n",
            "386\n",
            "499\n",
            "851\n",
            "344\n",
            "95\n",
            "730\n",
            "908\n",
            "990\n",
            "701\n",
            "574\n",
            "655\n",
            "206\n",
            "215\n",
            "106\n",
            "537\n",
            "368\n",
            "106\n",
            "435\n",
            "555\n",
            "683\n",
            "863\n",
            "425\n",
            "568\n",
            "664\n",
            "20\n",
            "274\n",
            "270\n",
            "43\n",
            "632\n",
            "338\n",
            "18\n",
            "154\n",
            "396\n",
            "881\n",
            "532\n",
            "358\n",
            "638\n",
            "644\n",
            "777\n",
            "777 bulundu\n"
          ]
        }
      ]
    },
    {
      "cell_type": "code",
      "source": [
        "def divide(number1, number2):\n",
        "  try:\n",
        "    number1_integer1 = int(number1)\n",
        "    number2_integer2 = int(number2)\n",
        "    return number1_integer1 / number2_integer2\n",
        "  except ValueError:\n",
        "    return \"Onyl integers are allowed! Try again\"\n",
        "  except ZeroDivisionError:\n",
        "    return \"You cannot divide any number by zero!\"\n",
        "\n",
        "number1 = input('Please provide number1: ')\n",
        "number2 = input('Please provide number2: ')\n",
        "\n",
        "print(divide(number1, number2))"
      ],
      "metadata": {
        "colab": {
          "base_uri": "https://localhost:8080/"
        },
        "id": "lQu0S6r3IDSa",
        "outputId": "f9a057a9-6583-4dfd-c7d6-ea66f4855998"
      },
      "execution_count": null,
      "outputs": [
        {
          "output_type": "stream",
          "name": "stdout",
          "text": [
            "Please provide number1: 13\n",
            "Please provide number2: 0\n",
            "You cannot divide any number by zero!\n"
          ]
        }
      ]
    }
  ]
}