{
  "nbformat": 4,
  "nbformat_minor": 0,
  "metadata": {
    "colab": {
      "provenance": [],
      "toc_visible": true
    },
    "kernelspec": {
      "name": "python3",
      "display_name": "Python 3"
    },
    "language_info": {
      "name": "python"
    }
  },
  "cells": [
    {
      "cell_type": "markdown",
      "source": [
        "# Practical exercise 1:  Plan an exciting adventure with a new friend\n",
        "\n",
        "*   List item\n",
        "*   List item\n",
        "\n",
        "\n",
        "\n",
        "Welcome to your first practical exercise for this course. Here you will get a chance to practice the concepts we've covered in the video lessons from the module and apply your new coding skills to plan an exciting adventure with a new friend you meet online."
      ],
      "metadata": {
        "id": "tBDsFMQwBs6Z"
      }
    },
    {
      "cell_type": "markdown",
      "source": [
        "##Warm up\n",
        "\n",
        "For this exercise, you will have to read the instructions, then write and run the code block. \n",
        "\n",
        "Let's test this. Do you remember all the keywords in Python? Probably not, but there is a quick and easy way to check them here.  \n",
        "\n",
        "1. Write the help() function in the code cell below and run the code. \n",
        "2. In the prompt that appears, type \"keywords\" and they will pop up."
      ],
      "metadata": {
        "id": "ymULFKyosM3d"
      }
    },
    {
      "cell_type": "code",
      "source": [
        "help()"
      ],
      "metadata": {
        "id": "0w6HGZBvsvru",
        "colab": {
          "base_uri": "https://localhost:8080/"
        },
        "outputId": "a5e4aba7-7717-45b9-caf2-cac8890bbe79"
      },
      "execution_count": 1,
      "outputs": [
        {
          "output_type": "stream",
          "name": "stdout",
          "text": [
            "\n",
            "Welcome to Python 3.8's help utility!\n",
            "\n",
            "If this is your first time using Python, you should definitely check out\n",
            "the tutorial on the Internet at https://docs.python.org/3.8/tutorial/.\n",
            "\n",
            "Enter the name of any module, keyword, or topic to get help on writing\n",
            "Python programs and using Python modules.  To quit this help utility and\n",
            "return to the interpreter, just type \"quit\".\n",
            "\n",
            "To get a list of available modules, keywords, symbols, or topics, type\n",
            "\"modules\", \"keywords\", \"symbols\", or \"topics\".  Each module also comes\n",
            "with a one-line summary of what it does; to list the modules whose name\n",
            "or summary contain a given string such as \"spam\", type \"modules spam\".\n",
            "\n",
            "help> keywords\n",
            "\n",
            "Here is a list of the Python keywords.  Enter any keyword to get more help.\n",
            "\n",
            "False               class               from                or\n",
            "None                continue            global              pass\n",
            "True                def                 if                  raise\n",
            "and                 del                 import              return\n",
            "as                  elif                in                  try\n",
            "assert              else                is                  while\n",
            "async               except              lambda              with\n",
            "await               finally             nonlocal            yield\n",
            "break               for                 not                 \n",
            "\n",
            "help> def\n",
            "Function definitions\n",
            "********************\n",
            "\n",
            "A function definition defines a user-defined function object (see\n",
            "section The standard type hierarchy):\n",
            "\n",
            "   funcdef                   ::= [decorators] \"def\" funcname \"(\" [parameter_list] \")\"\n",
            "               [\"->\" expression] \":\" suite\n",
            "   decorators                ::= decorator+\n",
            "   decorator                 ::= \"@\" dotted_name [\"(\" [argument_list [\",\"]] \")\"] NEWLINE\n",
            "   dotted_name               ::= identifier (\".\" identifier)*\n",
            "   parameter_list            ::= defparameter (\",\" defparameter)* \",\" \"/\" [\",\" [parameter_list_no_posonly]]\n",
            "                        | parameter_list_no_posonly\n",
            "   parameter_list_no_posonly ::= defparameter (\",\" defparameter)* [\",\" [parameter_list_starargs]]\n",
            "                                 | parameter_list_starargs\n",
            "   parameter_list_starargs   ::= \"*\" [parameter] (\",\" defparameter)* [\",\" [\"**\" parameter [\",\"]]]\n",
            "                               | \"**\" parameter [\",\"]\n",
            "   parameter                 ::= identifier [\":\" expression]\n",
            "   defparameter              ::= parameter [\"=\" expression]\n",
            "   funcname                  ::= identifier\n",
            "\n",
            "A function definition is an executable statement.  Its execution binds\n",
            "the function name in the current local namespace to a function object\n",
            "(a wrapper around the executable code for the function).  This\n",
            "function object contains a reference to the current global namespace\n",
            "as the global namespace to be used when the function is called.\n",
            "\n",
            "The function definition does not execute the function body; this gets\n",
            "executed only when the function is called. [2]\n",
            "\n",
            "A function definition may be wrapped by one or more *decorator*\n",
            "expressions. Decorator expressions are evaluated when the function is\n",
            "defined, in the scope that contains the function definition.  The\n",
            "result must be a callable, which is invoked with the function object\n",
            "as the only argument. The returned value is bound to the function name\n",
            "instead of the function object.  Multiple decorators are applied in\n",
            "nested fashion. For example, the following code\n",
            "\n",
            "   @f1(arg)\n",
            "   @f2\n",
            "   def func(): pass\n",
            "\n",
            "is roughly equivalent to\n",
            "\n",
            "   def func(): pass\n",
            "   func = f1(arg)(f2(func))\n",
            "\n",
            "except that the original function is not temporarily bound to the name\n",
            "\"func\".\n",
            "\n",
            "When one or more *parameters* have the form *parameter* \"=\"\n",
            "*expression*, the function is said to have “default parameter values.”\n",
            "For a parameter with a default value, the corresponding *argument* may\n",
            "be omitted from a call, in which case the parameter’s default value is\n",
            "substituted.  If a parameter has a default value, all following\n",
            "parameters up until the “\"*\"” must also have a default value — this is\n",
            "a syntactic restriction that is not expressed by the grammar.\n",
            "\n",
            "**Default parameter values are evaluated from left to right when the\n",
            "function definition is executed.** This means that the expression is\n",
            "evaluated once, when the function is defined, and that the same “pre-\n",
            "computed” value is used for each call.  This is especially important\n",
            "to understand when a default parameter is a mutable object, such as a\n",
            "list or a dictionary: if the function modifies the object (e.g. by\n",
            "appending an item to a list), the default value is in effect modified.\n",
            "This is generally not what was intended.  A way around this is to use\n",
            "\"None\" as the default, and explicitly test for it in the body of the\n",
            "function, e.g.:\n",
            "\n",
            "   def whats_on_the_telly(penguin=None):\n",
            "       if penguin is None:\n",
            "           penguin = []\n",
            "       penguin.append(\"property of the zoo\")\n",
            "       return penguin\n",
            "\n",
            "Function call semantics are described in more detail in section Calls.\n",
            "A function call always assigns values to all parameters mentioned in\n",
            "the parameter list, either from positional arguments, from keyword\n",
            "arguments, or from default values.  If the form “\"*identifier\"” is\n",
            "present, it is initialized to a tuple receiving any excess positional\n",
            "parameters, defaulting to the empty tuple. If the form\n",
            "“\"**identifier\"” is present, it is initialized to a new ordered\n",
            "mapping receiving any excess keyword arguments, defaulting to a new\n",
            "empty mapping of the same type.  Parameters after “\"*\"” or\n",
            "“\"*identifier\"” are keyword-only parameters and may only be passed by\n",
            "keyword arguments.  Parameters before “\"/\"” are positional-only\n",
            "parameters and may only be passed by positional arguments.\n",
            "\n",
            "Changed in version 3.8: The \"/\" function parameter syntax may be used\n",
            "to indicate positional-only parameters. See **PEP 570** for details.\n",
            "\n",
            "Parameters may have an *annotation* of the form “\": expression\"”\n",
            "following the parameter name.  Any parameter may have an annotation,\n",
            "even those of the form \"*identifier\" or \"**identifier\".  Functions may\n",
            "have “return” annotation of the form “\"-> expression\"” after the\n",
            "parameter list.  These annotations can be any valid Python expression.\n",
            "The presence of annotations does not change the semantics of a\n",
            "function.  The annotation values are available as values of a\n",
            "dictionary keyed by the parameters’ names in the \"__annotations__\"\n",
            "attribute of the function object.  If the \"annotations\" import from\n",
            "\"__future__\" is used, annotations are preserved as strings at runtime\n",
            "which enables postponed evaluation.  Otherwise, they are evaluated\n",
            "when the function definition is executed.  In this case annotations\n",
            "may be evaluated in a different order than they appear in the source\n",
            "code.\n",
            "\n",
            "It is also possible to create anonymous functions (functions not bound\n",
            "to a name), for immediate use in expressions.  This uses lambda\n",
            "expressions, described in section Lambdas.  Note that the lambda\n",
            "expression is merely a shorthand for a simplified function definition;\n",
            "a function defined in a “\"def\"” statement can be passed around or\n",
            "assigned to another name just like a function defined by a lambda\n",
            "expression.  The “\"def\"” form is actually more powerful since it\n",
            "allows the execution of multiple statements and annotations.\n",
            "\n",
            "**Programmer’s note:** Functions are first-class objects.  A “\"def\"”\n",
            "statement executed inside a function definition defines a local\n",
            "function that can be returned or passed around.  Free variables used\n",
            "in the nested function can access the local variables of the function\n",
            "containing the def.  See section Naming and binding for details.\n",
            "\n",
            "See also:\n",
            "\n",
            "  **PEP 3107** - Function Annotations\n",
            "     The original specification for function annotations.\n",
            "\n",
            "  **PEP 484** - Type Hints\n",
            "     Definition of a standard meaning for annotations: type hints.\n",
            "\n",
            "  **PEP 526** - Syntax for Variable Annotations\n",
            "     Ability to type hint variable declarations, including class\n",
            "     variables and instance variables\n",
            "\n",
            "  **PEP 563** - Postponed Evaluation of Annotations\n",
            "     Support for forward references within annotations by preserving\n",
            "     annotations in a string form at runtime instead of eager\n",
            "     evaluation.\n",
            "\n",
            "\n",
            "You are now leaving help and returning to the Python interpreter.\n",
            "If you want to ask for help on a particular object directly from the\n",
            "interpreter, you can type \"help(object)\".  Executing \"help('string')\"\n",
            "has the same effect as typing a particular string at the help> prompt.\n"
          ]
        }
      ]
    },
    {
      "cell_type": "markdown",
      "source": [
        "🧨 Is the code cell above still running? If so, you can't continue!\n",
        "\n",
        "💣 Click the stop button next to the cell. Otherwise, it will continue to run infinitely and you will not be able to run other cells."
      ],
      "metadata": {
        "id": "kG-nBjLU1WPC"
      }
    },
    {
      "cell_type": "markdown",
      "source": [
        "# Meet Amir\n",
        "\n",
        "Let's say you are browsing the internet, when a pop up message shows on your screen, someone wants to meet you. \n",
        " "
      ],
      "metadata": {
        "id": "cnWVzlo1vBy8"
      }
    },
    {
      "cell_type": "code",
      "source": [
        "#Run this cell to see the message\n",
        "message = \"Hello, my name is Amir! Nice to meet you. What is yours?\"\n",
        "print(message)"
      ],
      "metadata": {
        "id": "JFUdDbEW7GqB",
        "colab": {
          "base_uri": "https://localhost:8080/"
        },
        "outputId": "20966272-11b3-41e5-9503-bad3eb68ee46"
      },
      "execution_count": 2,
      "outputs": [
        {
          "output_type": "stream",
          "name": "stdout",
          "text": [
            "Hello, my name is Amir! Nice to meet you. What is yours?\n"
          ]
        }
      ]
    },
    {
      "cell_type": "markdown",
      "source": [
        "Now, how would you answer Amir? \n",
        "\n",
        "Use the cell below to prepare an answer for him with a greeting and your name and print it to the screen. \n",
        "\n",
        "📌 We use the built-in function print() in Python to show results as output."
      ],
      "metadata": {
        "id": "Yr7uQq1J2k6p"
      }
    },
    {
      "cell_type": "code",
      "source": [
        "#Write your answer and print it on the screen\n",
        "answer = \"Hi , how can i help you\"\n",
        "print (answer)"
      ],
      "metadata": {
        "id": "8S1F2r8NtEoN",
        "colab": {
          "base_uri": "https://localhost:8080/"
        },
        "outputId": "ed1de4ac-ce3d-4ba9-bea4-18c6b750cd83"
      },
      "execution_count": 3,
      "outputs": [
        {
          "output_type": "stream",
          "name": "stdout",
          "text": [
            "Hi , how can i help you\n"
          ]
        }
      ]
    },
    {
      "cell_type": "markdown",
      "source": [
        "Good job! Right away Amir writes you back with an intriguing question. He says, \"Would you like to plan an exciting adventure with me today?\" Well, why not! But before you start planning, maybe you need to learn a little bit more about each other."
      ],
      "metadata": {
        "id": "Vgv4mhyZEWR6"
      }
    },
    {
      "cell_type": "markdown",
      "source": [
        "#Get to know each other\n",
        "\n",
        "You ask Amir to tell you a little bit about himself, and here's what he tells you."
      ],
      "metadata": {
        "id": "QQIXQsmRwGqB"
      }
    },
    {
      "cell_type": "code",
      "source": [
        "#Run the cell to see his message\n",
        "his_age = 20\n",
        "his_height = 1.76\n",
        "his_hair_color = \"brunette\"\n",
        "his_hometown = \"Iran\"\n",
        "where_he_lives = \"Turkey\"\n",
        "\n",
        "print(\"I am\", str(his_age),\"years old,\",str(his_height),\"tall\",his_hair_color,\"guy from\",his_hometown,\"but I currently live in\",where_he_lives)\n",
        "\n",
        "print(\"What about you? Tell me about yourself.\")"
      ],
      "metadata": {
        "id": "dvTr4HR4wF4n"
      },
      "execution_count": null,
      "outputs": []
    },
    {
      "cell_type": "markdown",
      "source": [
        "Now it is your turn to share, but first some preparation is needed.\n",
        "\n",
        "1. Write in information about yourself using the variables below. \n",
        "2. If there's something you don't want to share, you can use comments. Just put a \"#\" symbol in front of the code line and Python will not execute that line of code.\n",
        "3. Check the datatype of each variable.\n",
        "\n",
        "📌 Remember that there are different data types in Python and in order to use them in a sentence you may have to convert some of them. "
      ],
      "metadata": {
        "id": "L7-zc-wR5982"
      }
    },
    {
      "cell_type": "code",
      "source": [
        "#Please assign your age, height and other details you want to share.\n",
        "my_age = 25\n",
        "my_height = 1.70\n",
        "my_hair_color = \"black\"\n",
        "my_hometown = \"Turkey\"\n",
        "where_live = \"Turkey\"\n",
        "#Check the data type of the variables you want to use.\n",
        "\n",
        "print(\"Name Type\", type(my_name), \"Age Type\", type(my_age), \"Height Type\", type(my_height), \"Hair Color Type\", type(my_hair_color),\"Hometown Type\", type(my_age), \"Where Live Type\", type(where_live))\n"
      ],
      "metadata": {
        "id": "MDTV-mOZBVOw",
        "colab": {
          "base_uri": "https://localhost:8080/"
        },
        "outputId": "31790e5e-7e4a-45ee-9b6b-ea855ca4b251"
      },
      "execution_count": 4,
      "outputs": [
        {
          "output_type": "stream",
          "name": "stdout",
          "text": [
            "Age Type <class 'int'> Height Type <class 'float'> Hair Color Type <class 'str'> Hometown Type <class 'int'> Where Live Type <class 'str'>\n"
          ]
        }
      ]
    },
    {
      "cell_type": "markdown",
      "source": [
        "Great, now that you know what you want to share and which variables need to be converted to strings, you're ready to write your sentence. "
      ],
      "metadata": {
        "id": "SDnrjsw7IC7Z"
      }
    },
    {
      "cell_type": "code",
      "source": [
        "#Write a sentence using the print function to describe yourself using the variables above in the correct data type\n",
        "print(\"Hello, I am\", str(my_age),\"years old,\",str(my_height),\"tall\",my_hair_color,\"guy from\",my_age,\"but I currently live in\",where_live)"
      ],
      "metadata": {
        "id": "0U8slyfyICeJ",
        "colab": {
          "base_uri": "https://localhost:8080/"
        },
        "outputId": "a24a752e-0f13-409e-e885-387ffec762e8"
      },
      "execution_count": 13,
      "outputs": [
        {
          "output_type": "stream",
          "name": "stdout",
          "text": [
            "Hello, I am 25 years old, 1.7 tall black guy from 25 but I currently live in Turkey\n"
          ]
        }
      ]
    },
    {
      "cell_type": "markdown",
      "source": [
        "#Where to go and what to eat\n",
        "\n",
        "Now that you know each other a little better, you can start planning your adventure. But where do you start? \n",
        "\n",
        "Let's start with locations and food. Amir asks you to make a list of places in the world that you want to visit and meals that you like to eat.\n",
        " \n",
        "Create a list 'favorite_places_and_foods' that contains at least 5 places and 5 meals.\n"
      ],
      "metadata": {
        "id": "7ICXdJRy9SWZ"
      }
    },
    {
      "cell_type": "code",
      "source": [
        "#Create your list\n",
        "favorite_places = ['Bursa-Uludağ', 'İstanbul-Galata Kulesi', 'Kadıköy-Moda sahili', 'Haydarpaşa garajı', 'Kastamonu kalesi','Pamukkale' ,];\n",
        "favorite_foods = ['Tavuklu Nohutlu Pilav', 'Patlıcan oturtma', 'Tepsi kebabı', 'Pasta', 'Magnolia'];\n",
        "\n",
        "print('Favorite Places-> ',favorite_places);\n",
        "print('Favorite Foods-> ',favorite_foods);\n"
      ],
      "metadata": {
        "id": "FHdeAmG6Aw3h",
        "colab": {
          "base_uri": "https://localhost:8080/"
        },
        "outputId": "d1c8b452-081f-4e5e-dbdf-add0b3ca9533"
      },
      "execution_count": 36,
      "outputs": [
        {
          "output_type": "stream",
          "name": "stdout",
          "text": [
            "Favorite Places->  ['Bursa-Uludağ', 'İstanbul-Galata Kulesi', 'Kadıköy-Moda sahili', 'Haydarpaşa garajı', 'Kastamonu kalesi', 'Pamukkale']\n",
            "Favorite Foods->  ['Tavuklu Nohutlu Pilav', 'Patlıcan oturtma', 'Tepsi kebabı', 'Pasta', 'Magnolia']\n"
          ]
        }
      ]
    },
    {
      "cell_type": "markdown",
      "source": [
        "It's quite tough to choose from such great options. You need to narrow it down to three items per category. \n",
        "\n",
        "1. First you have to separate or 'slice' the places from the meals. \n",
        "2. Then select the first three items from the places list and the last ones from the foods list.\n",
        "3. Print the remaining options to the screen. \n",
        "\n",
        "📌 Do you remember the list slicing technique? For example, Mylist[1:3] will give the second and third value from Mylist."
      ],
      "metadata": {
        "id": "bHbGRpu2MmYH"
      }
    },
    {
      "cell_type": "code",
      "source": [
        "#Create two separate lists for places and foods using the list slicing technique\n",
        "print('Food list: ',str(favorite_foods), 'and' , 'Favori list: ', str(favorite_places))\n",
        "\n",
        "#Select the first and last three from place and food lists\n",
        "print(favorite_foods[:3])\n",
        "print(favorite_places[-3:])\n",
        "\n",
        "#Print both lists\n",
        "print('first three: ',str(favorite_foods[:3]), 'and' , 'last three: ', str(favorite_places[-3:]))\n"
      ],
      "metadata": {
        "id": "13LMxJu1CD-F",
        "colab": {
          "base_uri": "https://localhost:8080/"
        },
        "outputId": "503526fa-7481-4ec6-e270-c3ede58ad9f0"
      },
      "execution_count": 50,
      "outputs": [
        {
          "output_type": "stream",
          "name": "stdout",
          "text": [
            "Food list:  ['Tavuklu Nohutlu Pilav', 'Patlıcan oturtma', 'Tepsi kebabı', 'Pasta', 'Magnolia'] and Favori list:  ['Bursa-Uludağ', 'İstanbul-Galata Kulesi', 'Kadıköy-Moda sahili', 'Haydarpaşa garajı', 'Kastamonu kalesi', 'Pamukkale']\n",
            "['Tavuklu Nohutlu Pilav', 'Patlıcan oturtma', 'Tepsi kebabı']\n",
            "['Haydarpaşa garajı', 'Kastamonu kalesi', 'Pamukkale']\n",
            "first three:  ['Tavuklu Nohutlu Pilav', 'Patlıcan oturtma', 'Tepsi kebabı'] and last three:  ['Haydarpaşa garajı', 'Kastamonu kalesi', 'Pamukkale']\n"
          ]
        }
      ]
    },
    {
      "cell_type": "markdown",
      "source": [
        "It's quite hard to make a choice from these three. But why not let the computer choose for you? Do you remember the game of dice from our videos? Here is what you need to do.\n",
        "\n",
        "1. Import the random module\n",
        "2. Generate two random numbers between 0-2\n",
        "3. Use each number as the index to choose an item from your favourite-place and food lists\n",
        "4. Print the results to the screen\n"
      ],
      "metadata": {
        "id": "R5LG-XXHBFFM"
      }
    },
    {
      "cell_type": "code",
      "source": [
        "#Please import the random module and generate two random numbers between 0 and 2\n",
        "import random\n",
        "\n",
        "random_number = random.randint(0,2)\n",
        "print(random_number)\n",
        "\n",
        "#Use the generated numbers as indexes of randomely chosen items from place and food lists\n",
        "\n",
        "random_place = favorite_places[random_number]\n",
        "random_food = favorite_foods[random_number]\n",
        "\n",
        "print('Random Places: ', str(random_place))\n",
        "print('Random Food:', str(random_food))"
      ],
      "metadata": {
        "id": "krGw2OUtC9y5",
        "colab": {
          "base_uri": "https://localhost:8080/"
        },
        "outputId": "f251ecde-430c-4c8e-b58e-24294dc0b037"
      },
      "execution_count": 57,
      "outputs": [
        {
          "output_type": "stream",
          "name": "stdout",
          "text": [
            "0\n",
            "Random Places:  Bursa-Uludağ\n",
            "Random Food: Tavuklu Nohutlu Pilav\n"
          ]
        }
      ]
    },
    {
      "cell_type": "markdown",
      "source": [
        "You must have found your location and food. But what else would you like to do \n",
        "\n",
        "---\n",
        "\n",
        "on your adventure?\n",
        "\n",
        "---\n",
        "\n"
      ],
      "metadata": {
        "id": "XzBTqk1yPZsM"
      }
    },
    {
      "cell_type": "markdown",
      "source": [
        "#Activities \n",
        "\n",
        "Now, you have your place and meals, but after lunch there are still lots of activities that you can do together...or separately.\n",
        "\n",
        "Let's say there are three pre-defined options: playing chess, playing tennis and visiting a museum. Chess and tennis require both of you to participate, but you can visit the museum separately as well. \n",
        "\n",
        "We need a code to indicate which activities each of you would like to do and which ones will be able to do. A chance to use our logical operators. \n",
        "\n",
        "1. Define activities\n",
        "2. Use the operands 'True' and 'False' to indicate your and Amir's preference for each activity\n",
        "3. Use the logical operators 'and' and 'or' to define which activities you will be able to do\n",
        "\n",
        "📌 Please add in the responces for Amir as well, by the way he doesn't like sports, but loves board games. "
      ],
      "metadata": {
        "id": "9t9q1B-WbW4i"
      }
    },
    {
      "cell_type": "code",
      "source": [
        "first_activity = \"lets play chess in the park\"\n",
        "second_activiy = \"lets play a game of tennis\"\n",
        "third_activity = \"lets go to the museum\"\n",
        "\n",
        "#Write your and Amir's preference for each activity either as \"True\" or \"False\"\n",
        "\n",
        "#First activity\n",
        "first_activity_your = True\n",
        "first_activity_friend = False\n",
        "\n",
        "#Example statement\n",
        "print(\"We are going to play chess in the park! Answer:\" ,first_activity_your and first_activity_friend)\n",
        " \n",
        "#Second activity\n",
        "\n",
        "second_activity_your = True\n",
        "second_activity_friend = True\n",
        " \n",
        "#Your turn to write the statement\n",
        "\n",
        "print(\"Answer :\" ,second_activity_your and second_activity_friend)\n",
        "\n",
        "#Third activity\n",
        "\n",
        "second_activity_your = False\n",
        "second_activity_friend = False\n",
        " \n",
        "#Your turn to write the statement \n",
        "print(\"Answer :\" ,second_activity_your or second_activity_friend)\n"
      ],
      "metadata": {
        "id": "sNIV7420Yk-Y",
        "colab": {
          "base_uri": "https://localhost:8080/"
        },
        "outputId": "ea1b02f8-edae-4535-c93e-b53918fbf103"
      },
      "execution_count": 61,
      "outputs": [
        {
          "output_type": "stream",
          "name": "stdout",
          "text": [
            "We are going to play chess in the park! Answer: False\n",
            "Answer : True\n",
            "Answer : False\n"
          ]
        }
      ]
    },
    {
      "cell_type": "markdown",
      "source": [
        "#Get a date\n",
        "\n",
        "Finally you know where to meet, what to eat and what do to. The only last thing to decide is when to meet. How would you ask Amir for the date and time he wants to go on this adventure with you? \n",
        "\n",
        "📌📌Hint: Use the input() function."
      ],
      "metadata": {
        "id": "p_jbzGubELqR"
      }
    },
    {
      "cell_type": "code",
      "source": [
        "#Create a variable for your trip date that asks Amir for an input\n",
        "date = input('Ne gün buluşalım?? ')\n",
        "\n",
        "#Print the date for the trip by using it in a sentence\n",
        "print(\"Tamamdır ,\",date, \"günü\", random_place, \"adlı yerde buluşup\", random_food, \"yiyoruz.\")"
      ],
      "metadata": {
        "id": "jGxVfccGEMZB",
        "colab": {
          "base_uri": "https://localhost:8080/"
        },
        "outputId": "89e788f5-109f-4cee-b65d-5f6215428762"
      },
      "execution_count": 64,
      "outputs": [
        {
          "output_type": "stream",
          "name": "stdout",
          "text": [
            "Ne gün buluşalım??salı\n",
            "Tamamdır , salı günü Bursa-Uludağ adlı yerde buluşup Tavuklu Nohutlu Pilav yiyoruz.\n"
          ]
        }
      ]
    }
  ]
}